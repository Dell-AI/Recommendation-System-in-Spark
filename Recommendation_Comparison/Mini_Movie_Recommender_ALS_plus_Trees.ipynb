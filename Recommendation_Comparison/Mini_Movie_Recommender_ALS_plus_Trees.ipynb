{
 "cells": [
  {
   "cell_type": "code",
   "execution_count": 1,
   "metadata": {},
   "outputs": [],
   "source": [
    "# Some functions are from or based on work done by Kevin Liao in the below notebook\n",
    "# https://github.com/KevinLiao159/MyDataSciencePortfolio/blob/master/movie_recommender/movie_recommendation_using_ALS.ipynb\n",
    "\n",
    "# Intialization\n",
    "import os\n",
    "import time\n",
    "\n",
    "import warnings\n",
    "warnings.filterwarnings(\"ignore\", message=\"numpy.dtype size changed\")\n",
    "\n",
    "# spark imports\n",
    "from pyspark.sql import SparkSession\n",
    "from pyspark.sql.functions import UserDefinedFunction, explode, desc\n",
    "from pyspark.sql.types import StringType, ArrayType\n",
    "from pyspark.ml.recommendation import ALS\n",
    "from pyspark.ml.linalg import Vectors\n",
    "from pyspark.ml.feature import VectorAssembler\n",
    "from pyspark.ml.regression import GBTRegressor, GBTRegressionModel\n",
    "\n",
    "# data science imports\n",
    "import numpy as np\n",
    "import pandas as pd\n",
    "from sklearn.preprocessing import MultiLabelBinarizer"
   ]
  },
  {
   "cell_type": "code",
   "execution_count": null,
   "metadata": {},
   "outputs": [],
   "source": [
    "data_path = 'hdfs:///user/andrew/'"
   ]
  },
  {
   "cell_type": "code",
   "execution_count": 2,
   "metadata": {},
   "outputs": [
    {
     "name": "stdout",
     "output_type": "stream",
     "text": [
      "CPU times: user 59.6 s, sys: 2.17 s, total: 1min 1s\n",
      "Wall time: 2min 2s\n"
     ]
    }
   ],
   "source": [
    "%%time\n",
    "# Read in data through spark since the data is sored in hadoop and format the columns\n",
    "# Convert to pandas dataframes for easier and faster manipulation\n",
    "from pyspark.sql.types import *\n",
    "from pyspark.sql import SQLContext, Row\n",
    "from pyspark.sql.functions import *\n",
    "sqlContext = SQLContext(sc)\n",
    "\n",
    "Rating = Row(\"user_id\", \"item_id\", \"label\") # Ignore timestamp\n",
    "\n",
    "movies = sqlContext.read.parquet(data_path + 'movie_metadata_OHE')\n",
    "movies_df = movies.toPandas()\n",
    "movies_df = movies_df.set_index(movies_df.item_id) # set index so no sorting errors occur\n",
    "\n",
    "# movies_gp = sqlContext.read.parquet('hdfs:///user/andrew/movie_genre_and_people_metadata_ohe_subset')\n",
    "movies_gp = movies.drop('title', 'imdb_id', 'imdb_rating', 'imdb_votes', 'metascore', 'runtime', 'year')\n",
    "\n",
    "ratings = sc.textFile(data_path + 'ratings.dat')\\\n",
    "    .map(lambda line: line.split(\"::\")[0:3])\\\n",
    "    .map(lambda line: map(int, line))\\\n",
    "    .map(lambda r: Rating(*r))\n",
    "ratings = sqlContext.createDataFrame(ratings)"
   ]
  },
  {
   "cell_type": "code",
   "execution_count": 3,
   "metadata": {},
   "outputs": [],
   "source": [
    "# User input function - takes user input data, strpis it down, and calls other functions on that data\n",
    "# Takes in user age, gender, list of favorite movies\n",
    "# All movies in the list of favorite movies will be rated 5 stars\n",
    "def new_user_input(fav_movies, all_ratings, movies, spark_context, \n",
    "                   sqlContext = None, num_recs = 10, age = None, \n",
    "                   gender = None, movies_gp = None, movies_df = None):\n",
    "    # age should be an integer in 1 - 100\n",
    "    # gender should be M or F\n",
    "    # fav_movies should be in the form of [\"Iron Man\", \"The Shawshank Redemption\", \"Robin Hood\"]\n",
    "    #    If there are multiple versions of the movie and the user wishes for one other than the most recent one, they\n",
    "    #    should specify with a year in parenthesis, like \"Robin Hood (1993)\"\n",
    "    \n",
    "    # collect favorite movie ids\n",
    "    print 'Collecting favorite movie IDs'\n",
    "    movieIds = get_movieId(movies_df, fav_movies)\n",
    "    print 'Favorite movies in the available set'\n",
    "    print movies_df[['item_id', 'title', 'year']].loc[movieIds]\n",
    "    \n",
    "    print 'Adding ratings to full set'\n",
    "    # add new user movie ratings to all ratings dataframe\n",
    "    all_ratings_updated, new_user_ratings = add_new_user_to_data(all_ratings, movieIds, spark_context)\n",
    "    del all_ratings\n",
    "    \n",
    "    print 'Creating prediction set'\n",
    "    # get all unrated movies for user (unnecessary in Spark 2.2+, instead use the recommendForAllUsers(num_to_rec) method)\n",
    "    all_user_unrated = get_inference_data(all_ratings_updated, movieIds)\n",
    "    \n",
    "    print 'Training ALS model'\n",
    "    # train ALS model, then predict movie ratings\n",
    "    als = ALS(seed = 42, regParam = 0.1, maxIter = 15, rank = 12, \n",
    "          userCol = \"user_id\", itemCol = \"item_id\", ratingCol = \"label\")\n",
    "    als_model = als.fit(all_ratings_updated)\n",
    "    del all_ratings_updated\n",
    "    \n",
    "    print 'Making Predictions'\n",
    "    # keep top 30 predictions\n",
    "    full_predictions_sorted = als_model.transform(all_user_unrated).sort(desc('prediction'))\n",
    "    als_top_n_predictions = full_predictions_sorted.take(num_recs)\n",
    "    # extract movie ids\n",
    "    als_top_n_ids = [r[1] for r in als_top_n_predictions]\n",
    "    \n",
    "    als_movie_recs = movies.filter(movies.item_id.isin(als_top_n_ids)).select('title', 'year')\n",
    "    print ''\n",
    "    print 'ALS Recommendations'\n",
    "    print als_movie_recs.toPandas()\n",
    "    \n",
    "    \n",
    "    # format data for prediction using GBTs\n",
    "    # create user_id x item_id matrix need to get data in the form of user_id, item_id, label, then pivot\n",
    "    # filter movies_gp dataframe by the movieIds. pivot new_user_ratings into a vector, \n",
    "    # then multiply by the filtered movies_gp dataframe; divide by binarized user ratings; \n",
    "    # this should now be a vector of user preferences. \n",
    "    # join a OHE age, gender, and possibly occupation, to the user preferences\n",
    "    user_summary = get_user_preferences(user_ratings = new_user_ratings, movieIds = movieIds, \n",
    "                                        movies_gp = movies_gp, age = age, gender = gender, sqlContext = sqlContext)\n",
    "    \n",
    "    # Extract movie ids from the top 5*num_recs for Gradient Boosted Trees prediction\n",
    "    als_top_3xn_predictions = full_predictions_sorted.take(3*num_recs)\n",
    "    als_top_3xn_ids = [r[1] for r in als_top_3xn_predictions]\n",
    "    all_user_unrated_top_3xn = all_user_unrated.filter(all_user_unrated.item_id.isin(als_top_3xn_ids))\n",
    "    top_3xn_movies_metadata = movies.filter(movies.item_id.isin(als_top_3xn_ids))\n",
    "        \n",
    "    # lastly, replicate the user pref rows for each rated movieId, then join with the filtered movies dataframe\n",
    "    # (MAKE SURE ALL COLUMNS ARE ORDERED AND NAMED CORRECTLY)\n",
    "    unrated_with_movie_metadata = all_user_unrated_top_3xn \\\n",
    "                                    .join(top_3xn_movies_metadata, on = 'item_id', how = 'left')\n",
    "    unrated_with_full_metadata = unrated_with_movie_metadata \\\n",
    "                                    .join(user_summary, on = 'user_id', how = 'left') \\\n",
    "                                    .drop('user_id', 'title', 'imdb_id')\n",
    "    \n",
    "    # the GBT model takes in the rows as vectors, so the columns must be converted to the feature space\n",
    "    unrated_with_full_metadata_rdd = unrated_with_full_metadata.rdd.map(lambda x: (x[0], Vectors.dense(x[1:])))\n",
    "    unrated_metadata_features = sqlContext.createDataFrame(unrated_with_full_metadata_rdd, schema = ['item_id', 'features'])\n",
    "    \n",
    "    # import the GBT model, in this case a GBTRegressionModel with tree depth of 10\n",
    "    GBTRegD10Model = GBTRegressionModel.load(data_path + 'GBTRegD10Model')\n",
    "    \n",
    "    # use pre-trained GBT model to predict movie ratings\n",
    "    gbtr_preds = GBTRegD10Model.transform(unrated_metadata_features)\n",
    "    \n",
    "    # sort by predicted rating, and keep top recommend top n\n",
    "    gbtr_top_n_predictions = gbtr_preds.sort(desc('prediction')).take(num_recs)\n",
    "    # extract movie ids\n",
    "    gbtr_top_n_ids = [r[0] for r in gbtr_top_n_predictions]\n",
    "\n",
    "    gbtr_movie_recs = movies.filter(movies.item_id.isin(gbtr_top_n_ids)).select('title', 'year')\n",
    "    print ''\n",
    "    print 'GBTR Recommendations'\n",
    "    print gbtr_movie_recs.toPandas()"
   ]
  },
  {
   "cell_type": "code",
   "execution_count": 4,
   "metadata": {},
   "outputs": [],
   "source": [
    "def get_movieId(movies_df, fav_movie_list):\n",
    "    \"\"\"\n",
    "    return all movieId(s) of user's favorite movies\n",
    "    \n",
    "    Parameters\n",
    "    ----------\n",
    "    df_movies: spark Dataframe, movies data\n",
    "    \n",
    "    fav_movie_list: list, user's list of favorite movies\n",
    "    \n",
    "    Return\n",
    "    ------\n",
    "    movieId_list: list of movieId(s)\n",
    "    \"\"\"\n",
    "    movieId_list = []\n",
    "    for movie in fav_movie_list:\n",
    "        # Remove first word in specific cases. This is because sometimes the first word is listed \n",
    "        # at the end of the movie title and would not be found by the search if it is included.\n",
    "        if movie[0:4] == 'The ':\n",
    "            movie = movie[4:]\n",
    "        elif movie[0:3] == 'An ':\n",
    "            movie = movie[3:]\n",
    "        elif movie[0:3] == 'La ':\n",
    "            movie = movie[3:]\n",
    "        elif movie[0:2] == 'A ':\n",
    "            movie = movie[3:]\n",
    "        \n",
    "        # If a year is provided by the user, remove it from the title and use it in the filtering.\n",
    "        if movie[-6:-5] == '(':\n",
    "            year = int(movie[-5:-1])\n",
    "            movie = movie[0:-7]\n",
    "            movieIds = movies_df.item_id[(movies_df.title.str.contains(movie)) & (movies_df.year == year)]\n",
    "            movieId_list.extend(movieIds)\n",
    "        # If no year is provided, determine if the title is a single word.\n",
    "        # If it is a single work, find an exact match\n",
    "        elif len(movie.split(' ')) == 1:\n",
    "            movieIds = movies_df.item_id[movies_df.title == movie]\n",
    "            movieId_list.extend(movieIds)\n",
    "        # Otherwise search for the movie title\n",
    "        else:\n",
    "            movieIds = movies_df.item_id[movies_df.title.str.contains(movie)]\n",
    "            movieId_list.extend(movieIds)\n",
    "    return movieId_list"
   ]
  },
  {
   "cell_type": "code",
   "execution_count": 5,
   "metadata": {},
   "outputs": [],
   "source": [
    "def add_new_user_to_data(train_data, movieIds, spark_context):\n",
    "    \"\"\"\n",
    "    add new rows with new user, user's movie and ratings to\n",
    "    existing train data\n",
    "\n",
    "    Parameters\n",
    "    ----------\n",
    "    train_data: Spark DataFrame, ratings data\n",
    "    \n",
    "    movieIds: spark DataFrame, single column of movieId(s)\n",
    "\n",
    "    spark_context: Spark Context object\n",
    "    \n",
    "    Return\n",
    "    ------\n",
    "    new train data with the new user's rows\n",
    "    \"\"\"\n",
    "    # Get new user id\n",
    "    new_id = train_data.agg({\"user_id\": \"max\"}).collect()[0][0] + 1\n",
    "    # Get max rating\n",
    "    max_rating = train_data.agg({\"label\": \"max\"}).collect()[0][0]\n",
    "    # Create new user sdf for max rating\n",
    "    user_rows_max = [(new_id, movieId, max_rating) for movieId in movieIds]\n",
    "    new_sdf_max = spark_context.parallelize(user_rows_max).toDF(['user_id', 'item_id', 'label'])\n",
    "    # Return new train data\n",
    "    return train_data.union(new_sdf_max), new_sdf_max"
   ]
  },
  {
   "cell_type": "code",
   "execution_count": 6,
   "metadata": {},
   "outputs": [],
   "source": [
    "def get_inference_data(train_data, movieIds):\n",
    "    \"\"\"\n",
    "    return a rdd with the userid and all movies (except ones in movieId_list)\n",
    "\n",
    "    Parameters\n",
    "    ----------\n",
    "    train_data: spark RDD, ratings data\n",
    "\n",
    "    df_movies: spark Dataframe, movies data\n",
    "    \n",
    "    movieId_list: list, list of movieId(s)\n",
    "\n",
    "    Return\n",
    "    ------\n",
    "    inference data: Spark RDD\n",
    "    \"\"\"\n",
    "    # Get new user id\n",
    "    new_id = train_data.agg({\"user_id\": \"max\"}).collect()[0][0]\n",
    "    # Get the set of movies that have not been rated by the user\n",
    "    distinct_unrated_items = ratings.select('item_id').distinct().filter(~col('item_id').isin(movieIds))\n",
    "    # Create the dataset for the new user with their unrated movies\n",
    "    user_unrated = distinct_unrated_items.withColumn('user_id', lit(new_id)).select('user_id', 'item_id')\n",
    "    return user_unrated"
   ]
  },
  {
   "cell_type": "code",
   "execution_count": 7,
   "metadata": {},
   "outputs": [],
   "source": [
    "def get_user_preferences(user_ratings, movieIds, movies_gp, age, gender, sqlContext):\n",
    "    user_demog = pd.DataFrame({'gender_M': 0, 'gender_F': 0, 'age_group_1': 0, \n",
    "                               'age_group_18': 0, 'age_group_25': 0, 'age_group_35': 0, \n",
    "                               'age_group_45': 0, 'age_group_50': 0, 'age_group_56': 0}, index = [0])\n",
    "    # Bin user by age\n",
    "    if age < 18:\n",
    "        user_demog.age_group_1[0] = 1\n",
    "    elif age < 25:\n",
    "        user_demog.age_group_18[0] = 1\n",
    "    elif age < 35:\n",
    "        user_demog.age_group_25[0] = 1\n",
    "    elif age < 45:\n",
    "        user_demog.age_group_35[0] = 1\n",
    "    elif age < 50:\n",
    "        user_demog.age_group_45[0] = 1\n",
    "    elif age < 56:\n",
    "        user_demog.age_group_50[0] = 1\n",
    "    else:\n",
    "        user_demog.age_group_56[0] = 1\n",
    "    # Binarize gender\n",
    "    if gender == 'M':\n",
    "        user_demog.gender_M[0] = 1\n",
    "    else:\n",
    "        user_demog.gender_F[0] = 1\n",
    "        \n",
    "    # new_user_ratings\n",
    "    # Create the user-item matrix for the new user\n",
    "    pivoted_user_ratings_df = user_ratings.toPandas() \\\n",
    "                                            .pivot(index='user_id', \n",
    "                                                   columns='item_id',\n",
    "                                                   values='label') \\\n",
    "                                            .fillna(0)\n",
    "    pivoted_user_ratings_df_binary = pivoted_user_ratings_df / pivoted_user_ratings_df\n",
    "    \n",
    "    # Reduce the movie set to only the user's rate movies\n",
    "    movies_gp_filtered = movies_gp.filter(col('item_id').isin(movieIds))\n",
    "    movies_gp_filtered_df = movies_gp_filtered.toPandas()\n",
    "    movies_gp_filtered_df = movies_gp_filtered_df.set_index('item_id')\n",
    "    \n",
    "    # Create user profile\n",
    "    user_summary_total = pivoted_user_ratings_df.dot(movies_gp_filtered_df)\n",
    "    user_summary_count = pivoted_user_ratings_df_binary.dot(movies_gp_filtered_df)\n",
    "    user_summary_avg = (user_summary_total / user_summary_count).fillna(0)\n",
    "    user_summary_avg = user_summary_avg.add_suffix('_avg_rating').reset_index()\n",
    "    \n",
    "    # Create Spark dataframe output for full user profile\n",
    "    user_summary = pd.concat([user_summary_avg, user_demog], axis = 1)\n",
    "    sorted_columns = list(user_summary.columns.sort_values())\n",
    "    user_summary_sdf = sqlContext.createDataFrame(user_summary[sorted_columns])\n",
    "    return user_summary_sdf"
   ]
  },
  {
   "cell_type": "markdown",
   "metadata": {},
   "source": [
    "### Step by Step Walkthrough of Main Function (to show runtime)"
   ]
  },
  {
   "cell_type": "code",
   "execution_count": 8,
   "metadata": {},
   "outputs": [
    {
     "name": "stdout",
     "output_type": "stream",
     "text": [
      "Collecting favorite movie IDs\n",
      "Favorite movies in the available set\n",
      "         item_id                      title  year\n",
      "item_id                                          \n",
      "318          318  Shawshank Redemption, The  1994\n",
      "2116        2116     Lord of the Rings, The  1978\n",
      "CPU times: user 13.6 ms, sys: 2.06 ms, total: 15.7 ms\n",
      "Wall time: 14.9 ms\n"
     ]
    }
   ],
   "source": [
    "%%time\n",
    "fav_movies = ['Tinker Tailor Soldier Spy', 'Shawshank Redemption', 'Lord of the Rings']\n",
    "# collect favorite movie ids\n",
    "print 'Collecting favorite movie IDs'\n",
    "movieIds = get_movieId(movies_df, fav_movies)\n",
    "if movies_df is not None:\n",
    "    print 'Favorite movies in the available set'\n",
    "    print movies_df[['item_id', 'title', 'year']].loc[movieIds]"
   ]
  },
  {
   "cell_type": "code",
   "execution_count": 9,
   "metadata": {},
   "outputs": [
    {
     "name": "stdout",
     "output_type": "stream",
     "text": [
      "Adding ratings to full set\n",
      "CPU times: user 43.4 ms, sys: 4.89 ms, total: 48.3 ms\n",
      "Wall time: 12 s\n"
     ]
    }
   ],
   "source": [
    "%%time\n",
    "print 'Adding ratings to full set'\n",
    "# add new user movie ratings to all ratings dataframe\n",
    "all_ratings_updated, user_ratings = add_new_user_to_data(ratings, movieIds, sc)"
   ]
  },
  {
   "cell_type": "code",
   "execution_count": 10,
   "metadata": {},
   "outputs": [
    {
     "name": "stdout",
     "output_type": "stream",
     "text": [
      "Creating prediction set\n",
      "CPU times: user 14.8 ms, sys: 4.14 ms, total: 18.9 ms\n",
      "Wall time: 4.19 s\n"
     ]
    }
   ],
   "source": [
    "%%time\n",
    "print 'Creating prediction set'\n",
    "# get all unrated movies for user (unnecessary in Spark 2.2+, instead use the recommendForAllUsers(num_to_rec) method)\n",
    "all_user_unrated = get_inference_data(all_ratings_updated, movieIds)"
   ]
  },
  {
   "cell_type": "code",
   "execution_count": 11,
   "metadata": {},
   "outputs": [
    {
     "name": "stdout",
     "output_type": "stream",
     "text": [
      "Training ALS model\n",
      "CPU times: user 41 ms, sys: 11.5 ms, total: 52.5 ms\n",
      "Wall time: 8.09 s\n"
     ]
    }
   ],
   "source": [
    "%%time\n",
    "print 'Training ALS model'\n",
    "# train ALS model, then predict movie ratings\n",
    "als = ALS(seed = 42, regParam = 0.1, maxIter = 15, rank = 12,\n",
    "      userCol = \"user_id\", itemCol = \"item_id\", ratingCol = \"label\")\n",
    "als_model = als.fit(all_ratings_updated)\n",
    "del all_ratings_updated"
   ]
  },
  {
   "cell_type": "code",
   "execution_count": 12,
   "metadata": {},
   "outputs": [
    {
     "name": "stdout",
     "output_type": "stream",
     "text": [
      "Making Predictions\n",
      "ALS Recommendations\n",
      "                                        title  year\n",
      "0                            Ulysses (Ulisse)  1954\n",
      "1          Schlafes Bruder (Brother of Sleep)  1995\n",
      "2                             Foreign Student  1994\n",
      "3                             Window to Paris  1994\n",
      "4                      Across the Sea of Time  1995\n",
      "5                         Usual Suspects, The  1995\n",
      "6                                  Braveheart  1995\n",
      "7                               Smashing Time  1967\n",
      "8                    Very Thought of You, The  1998\n",
      "9                       Saltmen of Tibet, The  1997\n",
      "10                          Bewegte Mann, Der  1994\n",
      "11  Midaq Alley (Callejn de los milagros, El)  1995\n",
      "12         Star Wars: Episode IV - A New Hope  1977\n",
      "13         Life Is Beautiful (La Vita  bella)  1997\n",
      "14                         American History X  1998\n",
      "CPU times: user 39.7 ms, sys: 4.22 ms, total: 43.9 ms\n",
      "Wall time: 44 s\n"
     ]
    }
   ],
   "source": [
    "%%time\n",
    "print 'Making Predictions'\n",
    "# keep top 15 predictions\n",
    "num_recs = 15\n",
    "full_predictions = als_model.transform(all_user_unrated)\n",
    "als_top_n_predictions = full_predictions.sort(desc('prediction')).take(num_recs)\n",
    "# extract movie ids\n",
    "als_top_n_ids = [r[1] for r in als_top_n_predictions]\n",
    "\n",
    "als_movie_recs = movies.filter(movies.item_id.isin(als_top_n_ids)).select('title', 'year')\n",
    "print 'ALS Recommendations'\n",
    "print als_movie_recs.toPandas()"
   ]
  },
  {
   "cell_type": "code",
   "execution_count": 13,
   "metadata": {},
   "outputs": [
    {
     "name": "stdout",
     "output_type": "stream",
     "text": [
      "CPU times: user 2.2 s, sys: 1.08 s, total: 3.28 s\n",
      "Wall time: 1min 6s\n"
     ]
    }
   ],
   "source": [
    "%%time\n",
    "# import GBT model input data format\n",
    "# Create user_id x item_id matrix need to get data in the form of user_id, item_id, label, then pivot\n",
    "# filter movies_gp dataframe by the movieIds. pivot new_user_ratings into a vector, \n",
    "# then multiply by the filtered movies_gp dataframe; divide by binarized user ratings; \n",
    "# this should now be a vector of user preferences. \n",
    "# join a OHE age, gender, and possibly occupation, to the user preferences\n",
    "user_summary_sdf = get_user_preferences(user_ratings = user_ratings, movieIds = movieIds, \n",
    "                                        movies_gp = movies_gp, age = 26, gender = 'M', \n",
    "                                        sqlContext = sqlContext)"
   ]
  },
  {
   "cell_type": "code",
   "execution_count": 14,
   "metadata": {},
   "outputs": [
    {
     "name": "stdout",
     "output_type": "stream",
     "text": [
      "CPU times: user 40.2 ms, sys: 9.43 ms, total: 49.6 ms\n",
      "Wall time: 5.55 s\n"
     ]
    }
   ],
   "source": [
    "%%time\n",
    "als_top_3xn_predictions = full_predictions.sort(desc('prediction')).take(3*num_recs)\n",
    "als_top_3xn_ids = [r[1] for r in als_top_3xn_predictions]\n",
    "all_user_unrated_top_3xn = all_user_unrated.filter(all_user_unrated.item_id.isin(als_top_3xn_ids))\n",
    "top_3xn_movies_metadata = movies.filter(movies.item_id.isin(als_top_3xn_ids))"
   ]
  },
  {
   "cell_type": "code",
   "execution_count": 15,
   "metadata": {},
   "outputs": [
    {
     "name": "stdout",
     "output_type": "stream",
     "text": [
      "CPU times: user 3.25 ms, sys: 937 µs, total: 4.19 ms\n",
      "Wall time: 8.22 s\n"
     ]
    }
   ],
   "source": [
    "%%time\n",
    "# lastly, replicate the user pref rows for each rated movieId, then join with the filtered movies dataframe\n",
    "# (MAKE SURE ALL COLUMNS ARE ORDERED AND NAMED CORRECTLY)\n",
    "unrated_with_movie_metadata = all_user_unrated_top_3xn \\\n",
    "                                .join(top_3xn_movies_metadata, on = 'item_id', how = 'left')\n",
    "unrated_with_full_metadata = unrated_with_movie_metadata \\\n",
    "                                .join(user_summary_sdf, on = 'user_id', how = 'left') \\\n",
    "                                .drop('user_id', 'title', 'imdb_id')"
   ]
  },
  {
   "cell_type": "code",
   "execution_count": 16,
   "metadata": {},
   "outputs": [
    {
     "name": "stdout",
     "output_type": "stream",
     "text": [
      "CPU times: user 59.1 ms, sys: 14.1 ms, total: 73.3 ms\n",
      "Wall time: 5min 16s\n"
     ]
    }
   ],
   "source": [
    "%%time\n",
    "# convert predictors to \"features\" and it is ready for prediction. \n",
    "unrated_with_full_metadata_rdd = unrated_with_full_metadata.rdd.map(lambda x: (x[0], Vectors.dense(x[1:])))\n",
    "unrated_metadata_features = sqlContext.createDataFrame(unrated_with_full_metadata_rdd, schema = ['item_id', 'features'])"
   ]
  },
  {
   "cell_type": "code",
   "execution_count": 17,
   "metadata": {},
   "outputs": [
    {
     "name": "stdout",
     "output_type": "stream",
     "text": [
      "CPU times: user 2.83 ms, sys: 1.25 ms, total: 4.08 ms\n",
      "Wall time: 13.3 s\n"
     ]
    }
   ],
   "source": [
    "%%time\n",
    "GBTRegD10Model = GBTRegressionModel.load(data_path + 'GBTRegD10Model')\n",
    "gbtr_preds = GBTRegD10Model.transform(unrated_metadata_features)"
   ]
  },
  {
   "cell_type": "code",
   "execution_count": 18,
   "metadata": {
    "scrolled": true
   },
   "outputs": [
    {
     "name": "stdout",
     "output_type": "stream",
     "text": [
      "GBTR Recommendations\n",
      "                                 title  year\n",
      "0                     Ulysses (Ulisse)  1954\n",
      "1   Schlafes Bruder (Brother of Sleep)  1995\n",
      "2                      Foreign Student  1994\n",
      "3                      Window to Paris  1994\n",
      "4               Across the Sea of Time  1995\n",
      "5                             Lamerica  1994\n",
      "6                        Smashing Time  1967\n",
      "7                       Big Trees, The  1952\n",
      "8                      Acid House, The  1998\n",
      "9             Very Thought of You, The  1998\n",
      "10                   Julien Donkey-Boy  1999\n",
      "11               Saltmen of Tibet, The  1997\n",
      "12                   Bewegte Mann, Der  1994\n",
      "13                        Mother Night  1996\n",
      "14               Dream With the Fishes  1997\n",
      "CPU times: user 56.6 ms, sys: 9.68 ms, total: 66.3 ms\n",
      "Wall time: 2min 33s\n"
     ]
    }
   ],
   "source": [
    "%%time\n",
    "gbtr_top_n_predictions = gbtr_preds.sort(desc('prediction')).take(num_recs)\n",
    "# extract movie ids\n",
    "gbtr_top_n_ids = [r[0] for r in gbtr_top_n_predictions]\n",
    "\n",
    "gbtr_movie_recs = movies.filter(movies.item_id.isin(gbtr_top_n_ids)).select('title', 'year')\n",
    "print 'GBTR Recommendations'\n",
    "print gbtr_movie_recs.toPandas()"
   ]
  },
  {
   "cell_type": "markdown",
   "metadata": {},
   "source": [
    "### Full Function Recommendation Examples"
   ]
  },
  {
   "cell_type": "code",
   "execution_count": 19,
   "metadata": {},
   "outputs": [
    {
     "name": "stdout",
     "output_type": "stream",
     "text": [
      "Collecting favorite movie IDs\n",
      "Favorite movies in the available set\n",
      "         item_id                      title  year\n",
      "item_id                                          \n",
      "318          318  Shawshank Redemption, The  1994\n",
      "2116        2116     Lord of the Rings, The  1978\n",
      "2376        2376          View to a Kill, A  1985\n",
      "Adding ratings to full set\n",
      "Creating prediction set\n",
      "Training ALS model\n",
      "Making Predictions\n",
      "\n",
      "ALS Recommendations\n",
      "                                       title  year\n",
      "0                           Ulysses (Ulisse)  1954\n",
      "1         Schlafes Bruder (Brother of Sleep)  1995\n",
      "2                            Foreign Student  1994\n",
      "3                            Window to Paris  1994\n",
      "4                     Across the Sea of Time  1995\n",
      "5                   Very Thought of You, The  1998\n",
      "6                      Saltmen of Tibet, The  1997\n",
      "7                          Bewegte Mann, Der  1994\n",
      "8  Midaq Alley (Callejn de los milagros, El)  1995\n",
      "9         Star Wars: Episode IV - A New Hope  1977\n",
      "\n",
      "GBTR Recommendations\n",
      "                                        title  year\n",
      "0                            Ulysses (Ulisse)  1954\n",
      "1                             Foreign Student  1994\n",
      "2                      Across the Sea of Time  1995\n",
      "3                               Smashing Time  1967\n",
      "4                              Big Trees, The  1952\n",
      "5                    Very Thought of You, The  1998\n",
      "6  Mating Habits of the Earthbound Human, The  1998\n",
      "7                                 Boys Life 2  1997\n",
      "8                         One Magic Christmas  1985\n",
      "9                           Bewegte Mann, Der  1994\n",
      "CPU times: user 2.34 s, sys: 1.2 s, total: 3.54 s\n",
      "Wall time: 10min\n"
     ]
    }
   ],
   "source": [
    "%%time\n",
    "fav_movies = ['Iron Man', 'Tinker Tailor Soldier Spy', 'Shawshank Redemption', 'Lord of the Rings', 'Harry Potter',\n",
    "             'The Family Stone', 'Shaun of the Dead', 'Up', 'A View to a Kill']\n",
    "new_user_input(fav_movies = fav_movies, all_ratings = ratings, \n",
    "               movies = movies, spark_context = sc, sqlContext = sqlContext,\n",
    "               num_recs = 10, age = 26, gender = 'M', movies_gp = movies_gp, movies_df = movies_df)"
   ]
  },
  {
   "cell_type": "code",
   "execution_count": 20,
   "metadata": {},
   "outputs": [
    {
     "name": "stdout",
     "output_type": "stream",
     "text": [
      "Collecting favorite movie IDs\n",
      "Favorite movies in the available set\n",
      "         item_id                      title  year\n",
      "item_id                                          \n",
      "318          318  Shawshank Redemption, The  1994\n",
      "2116        2116     Lord of the Rings, The  1978\n",
      "Adding ratings to full set\n",
      "Creating prediction set\n",
      "Training ALS model\n",
      "Making Predictions\n",
      "\n",
      "ALS Recommendations\n",
      "                                title  year\n",
      "0                    Ulysses (Ulisse)  1954\n",
      "1                     Foreign Student  1994\n",
      "2                     Window to Paris  1994\n",
      "3              Across the Sea of Time  1995\n",
      "4                          Braveheart  1995\n",
      "5                       Smashing Time  1967\n",
      "6               Saltmen of Tibet, The  1997\n",
      "7                   Bewegte Mann, Der  1994\n",
      "8  Life Is Beautiful (La Vita  bella)  1997\n",
      "9                  American History X  1998\n",
      "\n",
      "GBTR Recommendations\n",
      "                                title  year\n",
      "0                    Ulysses (Ulisse)  1954\n",
      "1  Schlafes Bruder (Brother of Sleep)  1995\n",
      "2                     Foreign Student  1994\n",
      "3              Across the Sea of Time  1995\n",
      "4                       Smashing Time  1967\n",
      "5                     Acid House, The  1998\n",
      "6            Very Thought of You, The  1998\n",
      "7                   Julien Donkey-Boy  1999\n",
      "8               Saltmen of Tibet, The  1997\n",
      "9                   Bewegte Mann, Der  1994\n",
      "CPU times: user 2.44 s, sys: 1.2 s, total: 3.64 s\n",
      "Wall time: 10min 14s\n"
     ]
    }
   ],
   "source": [
    "%%time\n",
    "fav_movies = ['Tinker Tailor Soldier Spy', 'Shawshank Redemption', 'Lord of the Rings']\n",
    "new_user_input(fav_movies = fav_movies, all_ratings = ratings, \n",
    "               movies = movies, spark_context = sc, sqlContext = sqlContext,\n",
    "               num_recs = 10, age = 26, gender = 'M', movies_gp = movies_gp, movies_df = movies_df)"
   ]
  },
  {
   "cell_type": "code",
   "execution_count": 21,
   "metadata": {},
   "outputs": [
    {
     "name": "stdout",
     "output_type": "stream",
     "text": [
      "Collecting favorite movie IDs\n",
      "Favorite movies in the available set\n",
      "         item_id                title  year\n",
      "item_id                                    \n",
      "3114        3114          Toy Story 2  1999\n",
      "1              1            Toy Story  1995\n",
      "1197        1197  Princess Bride, The  1987\n",
      "Adding ratings to full set\n",
      "Creating prediction set\n",
      "Training ALS model\n",
      "Making Predictions\n",
      "\n",
      "ALS Recommendations\n",
      "                                             title  year\n",
      "0                              Wrong Trousers, The  1993\n",
      "1                          Raiders of the Lost Ark  1981\n",
      "2                                 Schindler's List  1993\n",
      "3                                  Foreign Student  1994\n",
      "4  Wallace & Gromit: The Best of Aardman Animation  1996\n",
      "5                                          Sanjuro  1962\n",
      "6                        Leather Jacket Love Story  1997\n",
      "7                                   Close Shave, A  1995\n",
      "8               Star Wars: Episode IV - A New Hope  1977\n",
      "9                        Shawshank Redemption, The  1994\n",
      "\n",
      "GBTR Recommendations\n",
      "                                 title  year\n",
      "0   Schlafes Bruder (Brother of Sleep)  1995\n",
      "1              Raiders of the Lost Ark  1981\n",
      "2                      Foreign Student  1994\n",
      "3                  Usual Suspects, The  1995\n",
      "4                     Sixth Sense, The  1999\n",
      "5            Leather Jacket Love Story  1997\n",
      "6                           Sting, The  1973\n",
      "7          Gate of Heavenly Peace, The  1995\n",
      "8                          Rear Window  1954\n",
      "9  Inheritors, The (Die Siebtelbauern)  1998\n",
      "CPU times: user 2.41 s, sys: 1.16 s, total: 3.57 s\n",
      "Wall time: 10min 10s\n"
     ]
    }
   ],
   "source": [
    "%%time\n",
    "fav_movies = ['Frozen', 'Tangled', 'Oceans Eleven', 'Toy Story', 'The Princess Bride',  \n",
    "              'The Incredibles', 'Castle in the Sky', 'Monsters, Inc']\n",
    "new_user_input(fav_movies = fav_movies, all_ratings = ratings, \n",
    "               movies = movies, spark_context = sc, sqlContext = sqlContext,\n",
    "               num_recs = 10, age = 26, gender = 'M', movies_gp = movies_gp, movies_df = movies_df)"
   ]
  },
  {
   "cell_type": "code",
   "execution_count": 22,
   "metadata": {},
   "outputs": [
    {
     "name": "stdout",
     "output_type": "stream",
     "text": [
      "Collecting favorite movie IDs\n",
      "Favorite movies in the available set\n",
      "         item_id                title  year\n",
      "item_id                                    \n",
      "3114        3114          Toy Story 2  1999\n",
      "1              1            Toy Story  1995\n",
      "1197        1197  Princess Bride, The  1987\n",
      "Adding ratings to full set\n",
      "Creating prediction set\n",
      "Training ALS model\n",
      "Making Predictions\n",
      "\n",
      "ALS Recommendations\n",
      "                                             title  year\n",
      "0                              Wrong Trousers, The  1993\n",
      "1                          Raiders of the Lost Ark  1981\n",
      "2                                 Schindler's List  1993\n",
      "3                                  Foreign Student  1994\n",
      "4  Wallace & Gromit: The Best of Aardman Animation  1996\n",
      "5                                          Sanjuro  1962\n",
      "6                        Leather Jacket Love Story  1997\n",
      "7                                   Close Shave, A  1995\n",
      "8               Star Wars: Episode IV - A New Hope  1977\n",
      "9                        Shawshank Redemption, The  1994\n",
      "\n",
      "GBTR Recommendations\n",
      "                                 title  year\n",
      "0   Schlafes Bruder (Brother of Sleep)  1995\n",
      "1              Raiders of the Lost Ark  1981\n",
      "2                      Foreign Student  1994\n",
      "3                  Usual Suspects, The  1995\n",
      "4                     Sixth Sense, The  1999\n",
      "5            Leather Jacket Love Story  1997\n",
      "6                           Sting, The  1973\n",
      "7          Gate of Heavenly Peace, The  1995\n",
      "8                          Rear Window  1954\n",
      "9  Inheritors, The (Die Siebtelbauern)  1998\n",
      "CPU times: user 2.36 s, sys: 1.22 s, total: 3.58 s\n",
      "Wall time: 10min 17s\n"
     ]
    }
   ],
   "source": [
    "%%time\n",
    "fav_movies = ['Frozen', 'Tangled', 'Oceans Eleven', 'Toy Story', 'The Princess Bride',  \n",
    "              'The Incredibles', 'Castle in the Sky', 'Monsters, Inc']\n",
    "new_user_input(fav_movies = fav_movies, all_ratings = ratings, \n",
    "               movies = movies, spark_context = sc, sqlContext = sqlContext,\n",
    "               num_recs = 10, age = 8, gender = 'F', movies_gp = movies_gp, movies_df = movies_df)"
   ]
  },
  {
   "cell_type": "code",
   "execution_count": 23,
   "metadata": {},
   "outputs": [
    {
     "name": "stdout",
     "output_type": "stream",
     "text": [
      "Collecting favorite movie IDs\n",
      "Favorite movies in the available set\n",
      "         item_id                                           title  year\n",
      "item_id                                                               \n",
      "1035        1035                             Sound of Music, The  1965\n",
      "3114        3114                                     Toy Story 2  1999\n",
      "1              1                                       Toy Story  1995\n",
      "1197        1197                             Princess Bride, The  1987\n",
      "572          572                                 Foreign Student  1994\n",
      "1196        1196  Star Wars: Episode V - The Empire Strikes Back  1980\n",
      "1210        1210      Star Wars: Episode VI - Return of the Jedi  1983\n",
      "2628        2628       Star Wars: Episode I - The Phantom Menace  1999\n",
      "260          260              Star Wars: Episode IV - A New Hope  1977\n",
      "904          904                                     Rear Window  1954\n",
      "1265        1265                                   Groundhog Day  1993\n",
      "2716        2716                                    Ghostbusters  1984\n",
      "520          520                       Robin Hood: Men in Tights  1993\n",
      "1036        1036                                        Die Hard  1988\n",
      "165          165                      Die Hard: With a Vengeance  1995\n",
      "1370        1370                                      Die Hard 2  1990\n",
      "Adding ratings to full set\n",
      "Creating prediction set\n",
      "Training ALS model\n",
      "Making Predictions\n",
      "\n",
      "ALS Recommendations\n",
      "                                title  year\n",
      "0                         Chushingura  1962\n",
      "1                    Ulysses (Ulisse)  1954\n",
      "2  Schlafes Bruder (Brother of Sleep)  1995\n",
      "3             Raiders of the Lost Ark  1981\n",
      "4                    Sixth Sense, The  1999\n",
      "5                             Bandits  1997\n",
      "6                         Matrix, The  1999\n",
      "7  Indiana Jones and the Last Crusade  1989\n",
      "8                           Firelight  1997\n",
      "9           Shawshank Redemption, The  1994\n",
      "\n",
      "GBTR Recommendations\n",
      "                                       title  year\n",
      "0                           Ulysses (Ulisse)  1954\n",
      "1         Schlafes Bruder (Brother of Sleep)  1995\n",
      "2                            Window to Paris  1994\n",
      "3                     Across the Sea of Time  1995\n",
      "4                              Smashing Time  1967\n",
      "5                                    Bandits  1997\n",
      "6                  Ayn Rand: A Sense of Life  1997\n",
      "7                  Leather Jacket Love Story  1997\n",
      "8                                  Firelight  1997\n",
      "9  Midaq Alley (Callejn de los milagros, El)  1995\n",
      "CPU times: user 2.8 s, sys: 1.29 s, total: 4.09 s\n",
      "Wall time: 10min 8s\n"
     ]
    }
   ],
   "source": [
    "%%time\n",
    "fav_movies = ['The Sound of Music', 'Blackhawk Down', 'Pearl Harbor', 'Toy Story', 'The Princess Bride',  \n",
    "              'Foreign Student', 'Star Wars', 'The Shining', 'Rear Window', 'Groundhog Day', 'Ghostbusters', \n",
    "              'Robin Hood (1993)', 'Die Hard']\n",
    "new_user_input(fav_movies = fav_movies, all_ratings = ratings, \n",
    "               movies = movies, spark_context = sc, sqlContext = sqlContext,\n",
    "               num_recs = 10, age = 40, gender = 'M', movies_gp = movies_gp, movies_df = movies_df)"
   ]
  },
  {
   "cell_type": "code",
   "execution_count": null,
   "metadata": {},
   "outputs": [],
   "source": [
    "sc.stop()"
   ]
  }
 ],
 "metadata": {
  "kernelspec": {
   "display_name": "Python 2",
   "language": "python",
   "name": "python2"
  },
  "language_info": {
   "codemirror_mode": {
    "name": "ipython",
    "version": 2
   },
   "file_extension": ".py",
   "mimetype": "text/x-python",
   "name": "python",
   "nbconvert_exporter": "python",
   "pygments_lexer": "ipython2",
   "version": "2.7.5"
  }
 },
 "nbformat": 4,
 "nbformat_minor": 2
}
