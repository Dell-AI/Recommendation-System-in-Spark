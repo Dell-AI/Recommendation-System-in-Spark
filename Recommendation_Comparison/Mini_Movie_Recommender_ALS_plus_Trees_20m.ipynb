{
 "cells": [
  {
   "cell_type": "code",
   "execution_count": 1,
   "metadata": {},
   "outputs": [],
   "source": [
    "# Some functions are from or based on work done by Kevin Liao in the below notebook\n",
    "# https://github.com/KevinLiao159/MyDataSciencePortfolio/blob/master/movie_recommender/movie_recommendation_using_ALS.ipynb\n",
    "\n",
    "# Intialization\n",
    "import os\n",
    "import time\n",
    "\n",
    "import warnings\n",
    "warnings.filterwarnings(\"ignore\", message=\"numpy.dtype size changed\")\n",
    "\n",
    "# spark imports\n",
    "from pyspark.sql import SparkSession\n",
    "from pyspark.sql.functions import UserDefinedFunction, explode, desc\n",
    "from pyspark.sql.types import StringType, ArrayType\n",
    "from pyspark.ml.recommendation import ALS\n",
    "from pyspark.ml.linalg import Vectors\n",
    "from pyspark.ml.feature import VectorAssembler\n",
    "from pyspark.ml.regression import GBTRegressor, GBTRegressionModel\n",
    "\n",
    "# data science imports\n",
    "import numpy as np\n",
    "import pandas as pd\n",
    "from sklearn.preprocessing import MultiLabelBinarizer"
   ]
  },
  {
   "cell_type": "code",
   "execution_count": 2,
   "metadata": {},
   "outputs": [],
   "source": [
    "data_path = 'hdfs:///user/andrew/'"
   ]
  },
  {
   "cell_type": "code",
   "execution_count": 3,
   "metadata": {},
   "outputs": [
    {
     "name": "stdout",
     "output_type": "stream",
     "text": [
      "CPU times: user 2.65 s, sys: 147 ms, total: 2.8 s\n",
      "Wall time: 10.4 s\n"
     ]
    }
   ],
   "source": [
    "%%time\n",
    "# Read in data through spark since the data is sored in hadoop and format the columns\n",
    "# Convert to pandas dataframes for easier and faster manipulation\n",
    "from pyspark.sql.types import *\n",
    "from pyspark.sql import SQLContext, Row\n",
    "from pyspark.sql.functions import *\n",
    "sqlContext = SQLContext(sc)\n",
    "\n",
    "movies = sqlContext.read.parquet(data_path + 'movie_20m_metadata_OHE_subset')\n",
    "movies_df = movies.toPandas()\n",
    "movies_df = movies_df.set_index(movies_df.item_id) # set index so no sorting errors occur\n",
    "\n",
    "# movies_gp = sqlContext.read.parquet('hdfs:///user/andrew/movie_genre_and_people_metadata_ohe_subset')\n",
    "movies_gp = movies.drop('title', 'imdb_id', 'imdb_rating', 'imdb_votes', 'metascore', 'runtime', 'year')\n",
    "\n",
    "ratings = sqlContext.read.parquet(data_path + 'ratings_20m')\n",
    "ratings = ratings.drop('timestamp')\n",
    "ratings = ratings.withColumn(\"userId\", ratings[\"userId\"].cast(\"int\"))\n",
    "ratings = ratings.withColumn(\"rating\", ratings[\"rating\"] * 2) #Multiply by 2 so that values are whole numbers -> values 1 to 10\n",
    "ratings = ratings.select('userId', 'movieId', 'rating').toDF('user_id', 'item_id', 'label')"
   ]
  },
  {
   "cell_type": "code",
   "execution_count": 4,
   "metadata": {},
   "outputs": [],
   "source": [
    "# User input function - takes user input data, strpis it down, and calls other functions on that data\n",
    "# Takes in user age, gender, occupation (of 20 options - may drop this), list of favorite movies\n",
    "# All movies in the list of favorite movies will be rated 5 stars\n",
    "def new_user_input(fav_movies, all_ratings, movies, spark_context, \n",
    "                   sqlContext = None, num_recs = 10, movies_gp = None, \n",
    "                   movies_df = None):\n",
    "    # age should be an integer in 1 - 100\n",
    "    # gender should be M or F\n",
    "    # fav_movies should be in the form of [\"Iron Man\", \"The Shawshank Redemption\", \"Robin Hood\"]\n",
    "    #    If there are multiple versions of the movie and the user wishes for one other than the most recent one, they\n",
    "    #    should specify with a year in parenthesis, like \"Robin Hood (1993)\"\n",
    "       \n",
    "    # Occupation...\n",
    "    \n",
    "    # collect favorite movie ids\n",
    "    print 'Collecting favorite movie IDs'\n",
    "    movieIds = get_movieId(movies_df, fav_movies)\n",
    "    print 'Favorite movies in the available set'\n",
    "    print movies_df[['item_id', 'title', 'year']].loc[movieIds]\n",
    "    \n",
    "    print 'Adding ratings to full set'\n",
    "    # add new user movie ratings to all ratings dataframe\n",
    "    # all_ratings_updated, user_ratings, user_ratings_binary = add_new_user_to_data(all_ratings, movieIds, spark_context)\n",
    "    all_ratings_updated, new_user_ratings = add_new_user_to_data(all_ratings, movieIds, spark_context)\n",
    "    del all_ratings\n",
    "    \n",
    "    print 'Creating prediction set'\n",
    "    # get all unrated movies for user (unnecessary in Spark 2.2+, instead use the recommendForAllUsers(num_to_rec) method)\n",
    "    all_user_unrated = get_inference_data(all_ratings_updated, movieIds)\n",
    "    \n",
    "    print 'Training ALS model'\n",
    "    # train ALS model, then predict movie ratings\n",
    "    als = ALS(seed = 42, regParam = 0.1, maxIter = 15, rank = 12, # coldStartStrategy = 'drop', # drops userIds/movieIds from the validation set or test set so that NaNs are not returned\n",
    "          userCol = \"user_id\", itemCol = \"item_id\", ratingCol = \"label\")\n",
    "    als_model = als.fit(all_ratings_updated)\n",
    "    del all_ratings_updated\n",
    "    \n",
    "    print 'Making Predictions'\n",
    "    # keep top 30 predictions\n",
    "    full_predictions_sorted = als_model.transform(all_user_unrated).sort(desc('prediction'))\n",
    "    als_top_n_predictions = full_predictions_sorted.take(num_recs)\n",
    "    # extract movie ids\n",
    "    als_top_n_ids = [r[1] for r in als_top_n_predictions]\n",
    "    \n",
    "    als_movie_recs = movies.filter(movies.item_id.isin(als_top_n_ids)).select('title', 'year')\n",
    "    print ''\n",
    "    print 'ALS Recommendations'\n",
    "    print als_movie_recs.toPandas()\n",
    "    \n",
    "    \n",
    "    # format data for prediction using GBTs\n",
    "    # create user_id x item_id matrix need to get data in the form of user_id, item_id, label, then pivot\n",
    "    # filter movies_gp dataframe by the movieIds. pivot new_user_ratings into a vector, \n",
    "    # then multiply by the filtered movies_gp dataframe; divide by binarized user ratings; \n",
    "    # this should now be a vector of user preferences. \n",
    "    # join a OHE age, gender, and possibly occupation, to the user preferences\n",
    "    user_summary = get_user_preferences(user_ratings = new_user_ratings, movieIds = movieIds, \n",
    "                                        movies_gp = movies_gp, sqlContext = sqlContext)\n",
    "    \n",
    "    # Extract movie ids from the top 5*num_recs for Gradient Boosted Trees prediction\n",
    "    als_top_3xn_predictions = full_predictions_sorted.take(3*num_recs)\n",
    "    als_top_3xn_ids = [r[1] for r in als_top_3xn_predictions]\n",
    "    all_user_unrated_top_3xn = all_user_unrated.filter(all_user_unrated.item_id.isin(als_top_3xn_ids))\n",
    "    top_3xn_movies_metadata = movies.filter(movies.item_id.isin(als_top_3xn_ids))\n",
    "        \n",
    "    # lastly, replicate the user pref rows for each rated movieId, then join with the filtered movies dataframe\n",
    "    # (MAKE SURE ALL COLUMNS ARE ORDERED AND NAMED CORRECTLY)\n",
    "    unrated_with_movie_metadata = all_user_unrated_top_3xn \\\n",
    "                                    .join(top_3xn_movies_metadata, on = 'item_id', how = 'left')\n",
    "    unrated_with_full_metadata = unrated_with_movie_metadata \\\n",
    "                                    .join(user_summary, on = 'user_id', how = 'left') \\\n",
    "                                    .drop('user_id', 'title', 'imdb_id')\n",
    "    \n",
    "    # the GBT model takes in the rows as vectors, so the columns must be converted to the feature space\n",
    "    unrated_with_full_metadata_rdd = unrated_with_full_metadata.rdd.map(lambda x: (x[0], Vectors.dense(x[1:])))\n",
    "    unrated_metadata_features = sqlContext.createDataFrame(unrated_with_full_metadata_rdd, schema = ['item_id', 'features'])\n",
    "    \n",
    "    # import the GBT model, in this case a GBTRegressionModel with tree depth of 10\n",
    "    GBTRegD10Model = GBTRegressionModel.load(data_path + 'GBTRegD10Model_20m')\n",
    "    # use pre-trained GBT model to predict movie ratings\n",
    "    gbtr_preds = GBTRegD10Model.transform(unrated_metadata_features)\n",
    "    \n",
    "    # sort by predicted rating, and keep top recommend top n\n",
    "    gbtr_top_n_predictions = gbtr_preds.sort(desc('prediction')).take(num_recs)\n",
    "    # extract movie ids\n",
    "    gbtr_top_n_ids = [r[0] for r in gbtr_top_n_predictions]\n",
    "\n",
    "    gbtr_movie_recs = movies.filter(movies.item_id.isin(gbtr_top_n_ids)).select('title', 'year')\n",
    "    print ''\n",
    "    print 'GBTR Recommendations'\n",
    "    print gbtr_movie_recs.toPandas()"
   ]
  },
  {
   "cell_type": "code",
   "execution_count": 5,
   "metadata": {},
   "outputs": [],
   "source": [
    "def get_movieId(movies_df, fav_movie_list):\n",
    "    \"\"\"\n",
    "    return all movieId(s) of user's favorite movies\n",
    "    \n",
    "    Parameters\n",
    "    ----------\n",
    "    df_movies: spark Dataframe, movies data\n",
    "    \n",
    "    fav_movie_list: list, user's list of favorite movies\n",
    "    \n",
    "    Return\n",
    "    ------\n",
    "    movieId_list: list of movieId(s)\n",
    "    \"\"\"\n",
    "    movieId_list = []\n",
    "    for movie in fav_movie_list:\n",
    "        if movie[0:4] == 'The ':\n",
    "            movie = movie[4:]\n",
    "        elif movie[0:3] == 'An ':\n",
    "            movie = movie[3:]\n",
    "        elif movie[0:3] == 'La ':\n",
    "            movie = movie[3:]\n",
    "        elif movie[0:2] == 'A ':\n",
    "            movie = movie[3:]\n",
    "\n",
    "        if movie[-6:-5] == '(':\n",
    "            year = int(movie[-5:-1])\n",
    "            movie = movie[0:-7]\n",
    "            movieIds = movies_df.item_id[(movies_df.title.str.contains(movie)) & (movies_df.year == year)]\n",
    "            movieId_list.extend(movieIds)\n",
    "        elif len(movie.split(' ')) == 1:\n",
    "            movieIds = movies_df.item_id[movies_df.title == movie]\n",
    "            movieId_list.extend(movieIds)\n",
    "        else:\n",
    "            movieIds = movies_df.item_id[movies_df.title.str.contains(movie)]\n",
    "            movieId_list.extend(movieIds)\n",
    "    return movieId_list"
   ]
  },
  {
   "cell_type": "code",
   "execution_count": 6,
   "metadata": {},
   "outputs": [],
   "source": [
    "def add_new_user_to_data(train_data, movieIds, spark_context):\n",
    "    \"\"\"\n",
    "    add new rows with new user, user's movie and ratings to\n",
    "    existing train data\n",
    "\n",
    "    Parameters\n",
    "    ----------\n",
    "    train_data: Spark DataFrame, ratings data\n",
    "    \n",
    "    movieIds: spark DataFrame, single column of movieId(s)\n",
    "\n",
    "    spark_context: Spark Context object\n",
    "    \n",
    "    Return\n",
    "    ------\n",
    "    new train data with the new user's rows\n",
    "    \"\"\"\n",
    "    # get new user id\n",
    "    new_id = train_data.agg({\"user_id\": \"max\"}).collect()[0][0] + 1\n",
    "    # get max rating\n",
    "    max_rating = train_data.agg({\"label\": \"max\"}).collect()[0][0]\n",
    "    # create new user sdf for max rating\n",
    "    user_rows_max = [(new_id, movieId, max_rating) for movieId in movieIds]\n",
    "    new_sdf_max = spark_context.parallelize(user_rows_max).toDF(['user_id', 'item_id', 'label'])\n",
    "    # return new train data\n",
    "    return train_data.union(new_sdf_max), new_sdf_max # , new_sdf_binary"
   ]
  },
  {
   "cell_type": "code",
   "execution_count": 7,
   "metadata": {},
   "outputs": [],
   "source": [
    "def get_inference_data(train_data, movieIds):\n",
    "    \"\"\"\n",
    "    return a rdd with the userid and all movies (except ones in movieId_list)\n",
    "\n",
    "    Parameters\n",
    "    ----------\n",
    "    train_data: spark RDD, ratings data\n",
    "\n",
    "    df_movies: spark Dataframe, movies data\n",
    "    \n",
    "    movieId_list: list, list of movieId(s)\n",
    "\n",
    "    Return\n",
    "    ------\n",
    "    inference data: Spark RDD\n",
    "    \"\"\"\n",
    "    # get new user id\n",
    "    new_id = train_data.agg({\"user_id\": \"max\"}).collect()[0][0]\n",
    "    \n",
    "    distinct_unrated_items = ratings.select('item_id').distinct().filter(~col('item_id').isin(movieIds))\n",
    "\n",
    "    user_unrated = distinct_unrated_items.withColumn('user_id', lit(new_id)).select('user_id', 'item_id')\n",
    "    return user_unrated"
   ]
  },
  {
   "cell_type": "code",
   "execution_count": 8,
   "metadata": {},
   "outputs": [],
   "source": [
    "def get_user_preferences(user_ratings, movieIds, movies_gp, sqlContext):        \n",
    "    #new_user_ratings\n",
    "    # pivoted_user_ratings = user_ratings.groupBy('user_id').pivot('item_id').agg(avg('label'))\n",
    "    # pivoted_new_user_ratings_binary = user_ratings_binary.groupBy('user_id').pivot('item_id').agg(avg('label')).drop('user_id')\n",
    "    pivoted_user_ratings_df = user_ratings.toPandas() \\\n",
    "                                            .pivot(index='user_id', \n",
    "                                                   columns='item_id',\n",
    "                                                   values='label') \\\n",
    "                                            .fillna(0)\n",
    "    pivoted_user_ratings_df_binary = pivoted_user_ratings_df / pivoted_user_ratings_df\n",
    "    \n",
    "    movies_gp_filtered = movies_gp.filter(col('item_id').isin(movieIds))\n",
    "    movies_gp_filtered_df = movies_gp_filtered.toPandas()\n",
    "    # movies_gp_filtered_df.item_id = movies_gp_filtered_df.item_id.astype(str) only necessary when pivot was done on spark df\n",
    "    movies_gp_filtered_df = movies_gp_filtered_df.set_index('item_id')\n",
    "    \n",
    "    user_summary_total = pivoted_user_ratings_df.dot(movies_gp_filtered_df)\n",
    "    user_summary_count = pivoted_user_ratings_df_binary.dot(movies_gp_filtered_df)\n",
    "    user_summary_avg = (user_summary_total / user_summary_count).fillna(0)\n",
    "    user_summary_avg = user_summary_avg.add_suffix('_avg_rating').reset_index()\n",
    "    \n",
    "    sorted_columns = list(user_summary_avg.columns.sort_values())\n",
    "    user_summary_sdf = sqlContext.createDataFrame(user_summary_avg[sorted_columns])\n",
    "    return user_summary_sdf"
   ]
  },
  {
   "cell_type": "markdown",
   "metadata": {},
   "source": [
    "### Step by Step Walkthrough of Main Function (to show runtime)"
   ]
  },
  {
   "cell_type": "code",
   "execution_count": 9,
   "metadata": {},
   "outputs": [
    {
     "name": "stdout",
     "output_type": "stream",
     "text": [
      "Collecting favorite movie IDs\n",
      "Favorite movies in the available set\n",
      "         item_id                                              title  year\n",
      "item_id                                                                  \n",
      "89753      89753                   Tinker Tailor Soldier Spy (2011)  2011\n",
      "318          318                   Shawshank Redemption, The (1994)  1994\n",
      "2116        2116                      Lord of the Rings, The (1978)  1978\n",
      "7153        7153  Lord of the Rings: The Return of the King, The...  2003\n",
      "4993        4993  Lord of the Rings: The Fellowship of the Ring,...  2001\n",
      "5952        5952      Lord of the Rings: The Two Towers, The (2002)  2002\n",
      "CPU times: user 42.6 ms, sys: 15.3 ms, total: 58 ms\n",
      "Wall time: 54.3 ms\n"
     ]
    }
   ],
   "source": [
    "%%time\n",
    "fav_movies = ['Tinker Tailor Soldier Spy', 'Shawshank Redemption', 'Lord of the Rings']\n",
    "# collect favorite movie ids\n",
    "print 'Collecting favorite movie IDs'\n",
    "movieIds = get_movieId(movies_df, fav_movies)\n",
    "if movies_df is not None:\n",
    "    print 'Favorite movies in the available set'\n",
    "    print movies_df[['item_id', 'title', 'year']].loc[movieIds]"
   ]
  },
  {
   "cell_type": "code",
   "execution_count": 10,
   "metadata": {},
   "outputs": [
    {
     "name": "stdout",
     "output_type": "stream",
     "text": [
      "Adding ratings to full set\n",
      "CPU times: user 23.2 ms, sys: 7.6 ms, total: 30.8 ms\n",
      "Wall time: 9.37 s\n"
     ]
    }
   ],
   "source": [
    "%%time\n",
    "print 'Adding ratings to full set'\n",
    "# add new user movie ratings to all ratings dataframe\n",
    "# all_ratings_updated, user_ratings, user_ratings_binary = add_new_user_to_data(all_ratings, movieIds, spark_context)\n",
    "all_ratings_updated, user_ratings = add_new_user_to_data(ratings, movieIds, sc)"
   ]
  },
  {
   "cell_type": "code",
   "execution_count": 11,
   "metadata": {},
   "outputs": [
    {
     "name": "stdout",
     "output_type": "stream",
     "text": [
      "Creating prediction set\n",
      "CPU times: user 9.18 ms, sys: 7.63 ms, total: 16.8 ms\n",
      "Wall time: 3.95 s\n"
     ]
    }
   ],
   "source": [
    "%%time\n",
    "print 'Creating prediction set'\n",
    "# get all unrated movies for user (unnecessary in Spark 2.2+, instead use the recommendForAllUsers(num_to_rec) method)\n",
    "all_user_unrated = get_inference_data(all_ratings_updated, movieIds)"
   ]
  },
  {
   "cell_type": "code",
   "execution_count": 12,
   "metadata": {},
   "outputs": [
    {
     "name": "stdout",
     "output_type": "stream",
     "text": [
      "Training ALS model\n",
      "CPU times: user 36.2 ms, sys: 7.64 ms, total: 43.8 ms\n",
      "Wall time: 21.9 s\n"
     ]
    }
   ],
   "source": [
    "%%time\n",
    "print 'Training ALS model'\n",
    "# train ALS model, then predict movie ratings\n",
    "als = ALS(seed = 42, regParam = 0.1, maxIter = 15, rank = 12,\n",
    "      userCol = \"user_id\", itemCol = \"item_id\", ratingCol = \"label\")\n",
    "als_model = als.fit(all_ratings_updated)\n",
    "del all_ratings_updated"
   ]
  },
  {
   "cell_type": "code",
   "execution_count": 13,
   "metadata": {},
   "outputs": [
    {
     "name": "stdout",
     "output_type": "stream",
     "text": [
      "Making Predictions\n",
      "ALS Recommendations\n",
      "                                                title  year\n",
      "0                         Unbeatable (Ji zhan) (2013)  2013\n",
      "1                      Amanece, que no es poco (1989)  1989\n",
      "2                 National Theatre Live: Frankenstein  2014\n",
      "3   I Don't Want to Sleep Alone (Hei yan quan) (2006)  2006\n",
      "4                   Drained (O cheiro do Ralo) (2006)  2006\n",
      "5   Pit, the Pendulum and Hope, The (Kyvadlo, jAma...  1984\n",
      "6                Secret of Santa Vittoria, The (1969)  1969\n",
      "7                                      PlAcido (1961)  1961\n",
      "8                               Otakus in Love (2004)  2004\n",
      "9   Welcome Mr. Marshall (Bienvenido Mister Marsha...  1953\n",
      "10                       Policeman (Ha-shoter) (2011)  2011\n",
      "11  Marathon Family, The (Maratonci Trce Pocasni K...  1982\n",
      "12                             Moth, The (Cma) (1980)  1980\n",
      "13                Front Line, The (Go-ji-jeon) (2011)  2011\n",
      "14                         Code Name Coq Rouge (1989)  1989\n",
      "CPU times: user 25.8 ms, sys: 7.41 ms, total: 33.2 ms\n",
      "Wall time: 9.82 s\n"
     ]
    }
   ],
   "source": [
    "%%time\n",
    "print 'Making Predictions'\n",
    "# keep top 15 predictions\n",
    "num_recs = 15\n",
    "full_predictions = als_model.transform(all_user_unrated)\n",
    "als_top_n_predictions = full_predictions.sort(desc('prediction')).take(num_recs)\n",
    "# extract movie ids\n",
    "als_top_n_ids = [r[1] for r in als_top_n_predictions]\n",
    "\n",
    "als_movie_recs = movies.filter(movies.item_id.isin(als_top_n_ids)).select('title', 'year')\n",
    "print 'ALS Recommendations'\n",
    "print als_movie_recs.toPandas()"
   ]
  },
  {
   "cell_type": "code",
   "execution_count": 14,
   "metadata": {},
   "outputs": [
    {
     "name": "stdout",
     "output_type": "stream",
     "text": [
      "CPU times: user 104 ms, sys: 35.1 ms, total: 139 ms\n",
      "Wall time: 4.39 s\n"
     ]
    }
   ],
   "source": [
    "%%time\n",
    "# import GBT model input data format\n",
    "# Create user_id x item_id matrix need to get data in the form of user_id, item_id, label, then pivot\n",
    "# filter movies_gp dataframe by the movieIds. pivot new_user_ratings into a vector, \n",
    "# then multiply by the filtered movies_gp dataframe; divide by binarized user ratings; \n",
    "# this should now be a vector of user preferences. \n",
    "# join a OHE age, gender, and possibly occupation, to the user preferences\n",
    "user_summary_sdf = get_user_preferences(user_ratings = user_ratings, movieIds = movieIds, \n",
    "                                        movies_gp = movies_gp, sqlContext = sqlContext)"
   ]
  },
  {
   "cell_type": "code",
   "execution_count": 15,
   "metadata": {},
   "outputs": [
    {
     "name": "stdout",
     "output_type": "stream",
     "text": [
      "CPU times: user 33.8 ms, sys: 6.34 ms, total: 40.1 ms\n",
      "Wall time: 4.22 s\n"
     ]
    }
   ],
   "source": [
    "%%time\n",
    "als_top_3xn_predictions = full_predictions.sort(desc('prediction')).take(3*num_recs)\n",
    "als_top_3xn_ids = [r[1] for r in als_top_3xn_predictions]\n",
    "all_user_unrated_top_3xn = all_user_unrated.filter(all_user_unrated.item_id.isin(als_top_3xn_ids)) #looks good\n",
    "top_3xn_movies_metadata = movies.filter(movies.item_id.isin(als_top_3xn_ids)) #looks good"
   ]
  },
  {
   "cell_type": "code",
   "execution_count": 16,
   "metadata": {},
   "outputs": [
    {
     "name": "stdout",
     "output_type": "stream",
     "text": [
      "CPU times: user 3.9 ms, sys: 0 ns, total: 3.9 ms\n",
      "Wall time: 232 ms\n"
     ]
    }
   ],
   "source": [
    "%%time\n",
    "# lastly, replicate the user pref rows for each rated movieId, then join with the filtered movies dataframe\n",
    "# (MAKE SURE ALL COLUMNS ARE ORDERED AND NAMED CORRECTLY)\n",
    "unrated_with_movie_metadata = all_user_unrated_top_3xn \\\n",
    "                                .join(top_3xn_movies_metadata, on = 'item_id', how = 'left') #looks good\n",
    "unrated_with_full_metadata = unrated_with_movie_metadata \\\n",
    "                                .join(user_summary_sdf, on = 'user_id', how = 'left') \\\n",
    "                                .drop('user_id', 'title', 'imdb_id') #looks good"
   ]
  },
  {
   "cell_type": "code",
   "execution_count": 17,
   "metadata": {},
   "outputs": [
    {
     "name": "stdout",
     "output_type": "stream",
     "text": [
      "CPU times: user 35.2 ms, sys: 5.03 ms, total: 40.2 ms\n",
      "Wall time: 5.83 s\n"
     ]
    }
   ],
   "source": [
    "%%time\n",
    "# convert predictors to \"features\" and it is ready for prediction. \n",
    "# features_cols = list(unrated_with_full_metadata.columns)\n",
    "# features_cols.remove('item_id')\n",
    "\n",
    "# vecAssembler = VectorAssembler(inputCols = features_cols, outputCol=\"features\")\n",
    "# unrated_metadata_features = vecAssembler.transform(unrated_with_full_metadata)\n",
    "\n",
    "unrated_with_full_metadata_rdd = unrated_with_full_metadata.rdd.map(lambda x: (x[0], Vectors.dense(x[1:])))\n",
    "unrated_metadata_features = sqlContext.createDataFrame(unrated_with_full_metadata_rdd, schema = ['item_id', 'features'])\n",
    "#looks good"
   ]
  },
  {
   "cell_type": "code",
   "execution_count": 18,
   "metadata": {},
   "outputs": [
    {
     "name": "stdout",
     "output_type": "stream",
     "text": [
      "CPU times: user 4.61 ms, sys: 1.81 ms, total: 6.42 ms\n",
      "Wall time: 12.8 s\n"
     ]
    }
   ],
   "source": [
    "%%time\n",
    "GBTRegD10Model = GBTRegressionModel.load(data_path + 'GBTRegD10Model_20m')\n",
    "gbtr_preds = GBTRegD10Model.transform(unrated_metadata_features)"
   ]
  },
  {
   "cell_type": "code",
   "execution_count": 19,
   "metadata": {
    "scrolled": true
   },
   "outputs": [
    {
     "name": "stdout",
     "output_type": "stream",
     "text": [
      "GBTR Recommendations\n",
      "                                                title  year\n",
      "0   Crazy Class Wakes Up, The (Hababam sinifi uyan...  1977\n",
      "1                               India (Indien) (1993)  1993\n",
      "2                                       Yumeji (1991)  1991\n",
      "3   I Don't Want to Sleep Alone (Hei yan quan) (2006)  2006\n",
      "4                               Love and Honor (2006)  2006\n",
      "5                                      PlAcido (1961)  1961\n",
      "6                      Stuart: A Life Backward (2007)  2007\n",
      "7                            Hollow Crown, The (2012)     0\n",
      "8                       Eve and the Fire Horse (2005)  2005\n",
      "9   Shadows of Our Forgotten Ancestors (Tini zabut...  1964\n",
      "10  Marathon Family, The (Maratonci Trce Pocasni K...  1982\n",
      "11                                  Konopielka (1982)  1982\n",
      "12                             Moth, The (Cma) (1980)  1980\n",
      "13           Free Will, The (Freie Wille, Der) (2006)  2006\n",
      "14                   It's Such a Beautiful Day (2012)  2012\n",
      "CPU times: user 21.1 ms, sys: 6.58 ms, total: 27.7 ms\n",
      "Wall time: 4.44 s\n"
     ]
    }
   ],
   "source": [
    "%%time\n",
    "gbtr_top_n_predictions = gbtr_preds.sort(desc('prediction')).take(num_recs)\n",
    "# extract movie ids\n",
    "gbtr_top_n_ids = [r[0] for r in gbtr_top_n_predictions]\n",
    "\n",
    "gbtr_movie_recs = movies.filter(movies.item_id.isin(gbtr_top_n_ids)).select('title', 'year')\n",
    "print 'GBTR Recommendations'\n",
    "print gbtr_movie_recs.toPandas()"
   ]
  },
  {
   "cell_type": "markdown",
   "metadata": {},
   "source": [
    "### Full Function Recommendation Examples"
   ]
  },
  {
   "cell_type": "code",
   "execution_count": 20,
   "metadata": {},
   "outputs": [
    {
     "name": "stdout",
     "output_type": "stream",
     "text": [
      "Collecting favorite movie IDs\n",
      "Favorite movies in the available set\n",
      "         item_id                                              title  year\n",
      "item_id                                                                  \n",
      "102125    102125                                  Iron Man 3 (2013)  2013\n",
      "102051    102051                Iron Man: Rise Of Technovore (2013)  2013\n",
      "77561      77561                                  Iron Man 2 (2010)  2010\n",
      "102007    102007                    Invincible Iron Man, The (2007)  2007\n",
      "59315      59315                                    Iron Man (2008)  2008\n",
      "89753      89753                   Tinker Tailor Soldier Spy (2011)  2011\n",
      "318          318                   Shawshank Redemption, The (1994)  1994\n",
      "5952        5952      Lord of the Rings: The Two Towers, The (2002)  2002\n",
      "69844      69844      Harry Potter and the Half-Blood Prince (2009)  2009\n",
      "40815      40815         Harry Potter and the Goblet of Fire (2005)  2005\n",
      "88125      88125  Harry Potter and the Deathly Hallows: Part 2 (...  2011\n",
      "54001      54001   Harry Potter and the Order of the Phoenix (2007)  2007\n",
      "8368        8368    Harry Potter and the Prisoner of Azkaban (2004)  2004\n",
      "81834      81834  Harry Potter and the Deathly Hallows: Part 1 (...  2010\n",
      "5816        5816     Harry Potter and the Chamber of Secrets (2002)  2002\n",
      "4896        4896  Harry Potter and the Sorcerer's Stone (a.k.a. ...  2001\n",
      "41573      41573                           Family Stone, The (2005)  2005\n",
      "8874        8874                           Shaun of the Dead (2004)  2004\n",
      "2376        2376                           View to a Kill, A (1985)  1985\n",
      "Adding ratings to full set\n",
      "Creating prediction set\n",
      "Training ALS model\n",
      "Making Predictions\n",
      "\n",
      "ALS Recommendations\n",
      "                                               title  year\n",
      "0                                      Utopia (2013)     0\n",
      "1               Smashing Pumpkins: Vieuphoria (1994)  1994\n",
      "2                            Class of 92, The (2013)  2013\n",
      "3                              Big Night, The (1951)  1951\n",
      "4  I Don't Want to Sleep Alone (Hei yan quan) (2006)  2006\n",
      "5                                        Raja (2003)  2003\n",
      "6                     No Distance Left to Run (2010)  2010\n",
      "7                             Brooklyn Castle (2012)  2012\n",
      "8                           Bo Burnham: what. (2013)  2013\n",
      "9  Angels of the Universe (Englar alheimsins) (2000)  2000\n",
      "\n",
      "GBTR Recommendations\n",
      "                                               title  year\n",
      "0                                      Utopia (2013)     0\n",
      "1           Crazy Stone (Fengkuang de shitou) (2006)  2006\n",
      "2            Great Passage, The (Fune wo amu) (2013)  2013\n",
      "3                         Yesterday Was a Lie (2008)  2008\n",
      "4                 Turning Tide (En solitaire) (2013)  2013\n",
      "5  Once You're Born You Can No Longer Hide (Quand...  2005\n",
      "6                                        Raja (2003)  2003\n",
      "7                One Piece Film: Strong World (2009)  2009\n",
      "8          Doctor Who: The Time of the Doctor (2013)  2013\n",
      "9                           Valley Of Flowers (2006)  2006\n",
      "CPU times: user 345 ms, sys: 55.4 ms, total: 400 ms\n",
      "Wall time: 1min 9s\n"
     ]
    }
   ],
   "source": [
    "%%time\n",
    "fav_movies = ['Iron Man', 'Tinker Tailor Soldier Spy', 'Shawshank Redemption', 'Lord of the Rings (2002)', 'Harry Potter',\n",
    "             'The Family Stone', 'Shaun of the Dead', 'Up', 'A View to a Kill']\n",
    "new_user_input(fav_movies = fav_movies, all_ratings = ratings, \n",
    "               movies = movies, spark_context = sc, sqlContext = sqlContext,\n",
    "               num_recs = 10, movies_gp = movies_gp, movies_df = movies_df)"
   ]
  },
  {
   "cell_type": "code",
   "execution_count": 21,
   "metadata": {},
   "outputs": [
    {
     "name": "stdout",
     "output_type": "stream",
     "text": [
      "Collecting favorite movie IDs\n",
      "Favorite movies in the available set\n",
      "         item_id                                              title  year\n",
      "item_id                                                                  \n",
      "89753      89753                   Tinker Tailor Soldier Spy (2011)  2011\n",
      "318          318                   Shawshank Redemption, The (1994)  1994\n",
      "2116        2116                      Lord of the Rings, The (1978)  1978\n",
      "7153        7153  Lord of the Rings: The Return of the King, The...  2003\n",
      "4993        4993  Lord of the Rings: The Fellowship of the Ring,...  2001\n",
      "5952        5952      Lord of the Rings: The Two Towers, The (2002)  2002\n",
      "Adding ratings to full set\n",
      "Creating prediction set\n",
      "Training ALS model\n",
      "Making Predictions\n",
      "\n",
      "ALS Recommendations\n",
      "                                               title  year\n",
      "0                        Unbeatable (Ji zhan) (2013)  2013\n",
      "1                     Amanece, que no es poco (1989)  1989\n",
      "2                National Theatre Live: Frankenstein  2014\n",
      "3  I Don't Want to Sleep Alone (Hei yan quan) (2006)  2006\n",
      "4                  Drained (O cheiro do Ralo) (2006)  2006\n",
      "5                                     PlAcido (1961)  1961\n",
      "6                              Otakus in Love (2004)  2004\n",
      "7  Welcome Mr. Marshall (Bienvenido Mister Marsha...  1953\n",
      "8  Marathon Family, The (Maratonci Trce Pocasni K...  1982\n",
      "9                         Code Name Coq Rouge (1989)  1989\n",
      "\n",
      "GBTR Recommendations\n",
      "                                               title  year\n",
      "0                              India (Indien) (1993)  1993\n",
      "1                                      Yumeji (1991)  1991\n",
      "2  I Don't Want to Sleep Alone (Hei yan quan) (2006)  2006\n",
      "3                              Love and Honor (2006)  2006\n",
      "4                                     PlAcido (1961)  1961\n",
      "5                     Stuart: A Life Backward (2007)  2007\n",
      "6  Welcome Mr. Marshall (Bienvenido Mister Marsha...  1953\n",
      "7  Marathon Family, The (Maratonci Trce Pocasni K...  1982\n",
      "8                             Moth, The (Cma) (1980)  1980\n",
      "9                   It's Such a Beautiful Day (2012)  2012\n",
      "CPU times: user 253 ms, sys: 53.2 ms, total: 306 ms\n",
      "Wall time: 1min 9s\n"
     ]
    }
   ],
   "source": [
    "%%time\n",
    "fav_movies = ['Tinker Tailor Soldier Spy', 'Shawshank Redemption', 'Lord of the Rings']\n",
    "new_user_input(fav_movies = fav_movies, all_ratings = ratings, \n",
    "               movies = movies, spark_context = sc, sqlContext = sqlContext,\n",
    "               num_recs = 10, movies_gp = movies_gp, movies_df = movies_df)"
   ]
  },
  {
   "cell_type": "code",
   "execution_count": 22,
   "metadata": {},
   "outputs": [
    {
     "name": "stdout",
     "output_type": "stream",
     "text": [
      "Collecting favorite movie IDs\n",
      "Favorite movies in the available set\n",
      "         item_id                                              title  year\n",
      "item_id                                                                  \n",
      "1              1                                   Toy Story (1995)  1995\n",
      "3114        3114                                 Toy Story 2 (1999)  1999\n",
      "78499      78499                                 Toy Story 3 (2010)  2010\n",
      "106022    106022                         Toy Story of Terror (2013)  2013\n",
      "115875    115875          Toy Story Toons: Hawaiian Vacation (2011)  2011\n",
      "115879    115879                  Toy Story Toons: Small Fry (2011)  2011\n",
      "120468    120468            Toy Story Toons: Partysaurus Rex (2012)  2012\n",
      "120474    120474                  Toy Story That Time Forgot (2014)  2014\n",
      "1197        1197                         Princess Bride, The (1987)  1987\n",
      "6350        6350  Laputa: Castle in the Sky (TenkA no shiro Rapy...  1986\n",
      "4886        4886                              Monsters, Inc. (2001)  2001\n",
      "Adding ratings to full set\n",
      "Creating prediction set\n",
      "Training ALS model\n",
      "Making Predictions\n",
      "\n",
      "ALS Recommendations\n",
      "                                               title  year\n",
      "0                 The Punisher: Dirty Laundry (2012)  2012\n",
      "1               Smashing Pumpkins: Vieuphoria (1994)  1994\n",
      "2                Foo Fighters: Back and Forth (2011)  2011\n",
      "3  Don't Eat the Pictures: Sesame Street at the M...  1983\n",
      "4                               Big Snit, The (1985)  1985\n",
      "5                  Patton Oswalt: Finest Hour (2011)  2011\n",
      "6        Patton Oswalt: My Weakness Is Strong (2009)  2009\n",
      "7     Patton Oswalt: Werewolves and Lollipops (2007)  2007\n",
      "8                     No Distance Left to Run (2010)  2010\n",
      "9             Drew: The Man Behind the Poster (2013)  2013\n",
      "\n",
      "GBTR Recommendations\n",
      "                                               title  year\n",
      "0                               For the Birds (2000)  2000\n",
      "1                Foul King, The (Banchikwang) (2000)  2000\n",
      "2                               Big Snit, The (1985)  1985\n",
      "3                  Patton Oswalt: Finest Hour (2011)  2011\n",
      "4        Patton Oswalt: My Weakness Is Strong (2009)  2009\n",
      "5  Welcome Back, Mr. McDonald (Rajio no jikan) (1...  1997\n",
      "6       Adrenaline Drive (Adorenarin doraibu) (1999)  1999\n",
      "7  Happiness Is a Warm Blanket, Charlie Brown (2011)  2011\n",
      "8  Patton Oswalt: Tragedy Plus Comedy Equals Time...  2014\n",
      "9                Bill Burr: Why Do I Do This? (2008)  2008\n",
      "CPU times: user 294 ms, sys: 53 ms, total: 347 ms\n",
      "Wall time: 1min 8s\n"
     ]
    }
   ],
   "source": [
    "%%time\n",
    "fav_movies = ['Frozen', 'Tangled', 'Oceans Eleven', 'Toy Story', 'The Princess Bride',  \n",
    "              'The Incredibles', 'Castle in the Sky', 'Monsters, Inc']\n",
    "new_user_input(fav_movies = fav_movies, all_ratings = ratings, \n",
    "               movies = movies, spark_context = sc, sqlContext = sqlContext,\n",
    "               num_recs = 10, movies_gp = movies_gp, movies_df = movies_df)"
   ]
  },
  {
   "cell_type": "code",
   "execution_count": 23,
   "metadata": {},
   "outputs": [
    {
     "name": "stdout",
     "output_type": "stream",
     "text": [
      "Collecting favorite movie IDs\n",
      "Favorite movies in the available set\n",
      "         item_id                                              title  year\n",
      "item_id                                                                  \n",
      "1035        1035                         Sound of Music, The (1965)  1965\n",
      "4310        4310                                Pearl Harbor (2001)  2001\n",
      "1              1                                   Toy Story (1995)  1995\n",
      "3114        3114                                 Toy Story 2 (1999)  1999\n",
      "78499      78499                                 Toy Story 3 (2010)  2010\n",
      "106022    106022                         Toy Story of Terror (2013)  2013\n",
      "115875    115875          Toy Story Toons: Hawaiian Vacation (2011)  2011\n",
      "115879    115879                  Toy Story Toons: Small Fry (2011)  2011\n",
      "120468    120468            Toy Story Toons: Partysaurus Rex (2012)  2012\n",
      "120474    120474                  Toy Story That Time Forgot (2014)  2014\n",
      "1197        1197                         Princess Bride, The (1987)  1987\n",
      "572          572                             Foreign Student (1994)  1994\n",
      "1196        1196  Star Wars: Episode V - The Empire Strikes Back...  1980\n",
      "1210        1210  Star Wars: Episode VI - Return of the Jedi (1983)  1983\n",
      "109713    109713               Star Wars: Threads of Destiny (2014)  2014\n",
      "100089    100089             Star Wars Uncut: Director's Cut (2012)  2012\n",
      "5378        5378  Star Wars: Episode II - Attack of the Clones (...  2002\n",
      "61160      61160                   Star Wars: The Clone Wars (2008)  2008\n",
      "33493      33493  Star Wars: Episode III - Revenge of the Sith (...  2005\n",
      "79006      79006  Empire of Dreams: The Story of the 'Star Wars'...  2004\n",
      "2628        2628   Star Wars: Episode I - The Phantom Menace (1999)  1999\n",
      "260          260          Star Wars: Episode IV - A New Hope (1977)  1977\n",
      "904          904                                 Rear Window (1954)  1954\n",
      "1265        1265                               Groundhog Day (1993)  1993\n",
      "520          520                   Robin Hood: Men in Tights (1993)  1993\n",
      "1370        1370                                  Die Hard 2 (1990)  1990\n",
      "100498    100498                     Good Day to Die Hard, A (2013)  2013\n",
      "53972      53972                       Live Free or Die Hard (2007)  2007\n",
      "1036        1036                                    Die Hard (1988)  1988\n",
      "165          165                  Die Hard: With a Vengeance (1995)  1995\n",
      "Adding ratings to full set\n",
      "Creating prediction set\n",
      "Training ALS model\n",
      "Making Predictions\n",
      "\n",
      "ALS Recommendations\n",
      "                                               title  year\n",
      "0  Gurren Lagann: The Lights in the Sky are Stars...  2008\n",
      "1           Crazy Stone (Fengkuang de shitou) (2006)  2006\n",
      "2                            Class of 92, The (2013)  2013\n",
      "3                      Day After Trinity, The (1981)  1981\n",
      "4                                 Connections (1978)     0\n",
      "5  Two of Us, The (Le vieil homme et l'enfant) (1...  1967\n",
      "6                             The War at Home (1979)  1979\n",
      "7                                Kiss or Kill (1997)  1997\n",
      "8                         When Nietzsche Wept (2007)  2007\n",
      "9                           Salt of the Earth (1954)  1954\n",
      "\n",
      "GBTR Recommendations\n",
      "                                               title  year\n",
      "0  Gurren Lagann: The Lights in the Sky are Stars...  2008\n",
      "1  Old Lady and the Pigeons, The (La vieille dame...  1997\n",
      "2                Foo Fighters: Back and Forth (2011)  2011\n",
      "3                            Class of 92, The (2013)  2013\n",
      "4  Tom Petty and the Heartbreakers: Runnin' Down ...  2007\n",
      "5                       War on Democracy, The (2007)  2007\n",
      "6  Pearl Jam: Immagine in Cornice - Live in Italy...  2007\n",
      "7                   One Bright Shining Moment (2005)  2005\n",
      "8                     No Distance Left to Run (2010)  2010\n",
      "9                Jim Jefferies: Alcoholocaust (2010)  2010\n",
      "CPU times: user 363 ms, sys: 51.8 ms, total: 415 ms\n",
      "Wall time: 1min 8s\n"
     ]
    }
   ],
   "source": [
    "%%time\n",
    "fav_movies = ['The Sound of Music', 'Blackhawk Down', 'Pearl Harbor', 'Toy Story', 'The Princess Bride',  \n",
    "              'Foreign Student', 'Star Wars', 'The Shining', 'Rear Window', 'Groundhog Day', 'Ghostbusters', \n",
    "              'Robin Hood (1993)', 'Die Hard']\n",
    "new_user_input(fav_movies = fav_movies, all_ratings = ratings, \n",
    "               movies = movies, spark_context = sc, sqlContext = sqlContext,\n",
    "               num_recs = 10, movies_gp = movies_gp, movies_df = movies_df)"
   ]
  }
 ],
 "metadata": {
  "kernelspec": {
   "display_name": "Python 2",
   "language": "python",
   "name": "python2"
  },
  "language_info": {
   "codemirror_mode": {
    "name": "ipython",
    "version": 2
   },
   "file_extension": ".py",
   "mimetype": "text/x-python",
   "name": "python",
   "nbconvert_exporter": "python",
   "pygments_lexer": "ipython2",
   "version": "2.7.5"
  }
 },
 "nbformat": 4,
 "nbformat_minor": 2
}
