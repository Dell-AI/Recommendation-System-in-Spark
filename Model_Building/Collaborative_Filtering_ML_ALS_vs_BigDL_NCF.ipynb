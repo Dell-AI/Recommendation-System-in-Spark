{
 "cells": [
  {
   "cell_type": "markdown",
   "metadata": {},
   "source": [
    "# Notebook for Collaborative Filtering with both ALS and NCF models for 1M rows"
   ]
  },
  {
   "cell_type": "markdown",
   "metadata": {},
   "source": [
    "In this notebook, we implement ALS and NCF models for Movie Recommendation System for 1M movie ratings. The 1M reviews dataset contains 1 million movie ratings made by 4,000 users on 6,000 movies."
   ]
  },
  {
   "cell_type": "code",
   "execution_count": 1,
   "metadata": {},
   "outputs": [],
   "source": [
    "# Intialization\n",
    "import os\n",
    "import time\n",
    "import datetime as dt\n",
    "\n",
    "import warnings\n",
    "warnings.filterwarnings(\"ignore\", message=\"numpy.dtype size changed\")\n",
    "\n",
    "# spark sql imports\n",
    "from pyspark.sql import SparkSession, SQLContext, Row\n",
    "from pyspark.sql.functions import UserDefinedFunction, explode, desc\n",
    "from pyspark.sql.types import *\n",
    "\n",
    "# spark ml imports\n",
    "from pyspark.ml.recommendation import ALS\n",
    "from pyspark.ml.linalg import Vectors\n",
    "from pyspark.ml.tuning import ParamGridBuilder, CrossValidator\n",
    "from pyspark.ml.evaluation import RegressionEvaluator\n",
    "\n",
    "# spark bigdl, analytics zoo imports\n",
    "from zoo.models.recommendation import UserItemFeature\n",
    "from zoo.models.recommendation import NeuralCF\n",
    "from zoo.common.nncontext import init_nncontext\n",
    "from bigdl.nn.criterion import *\n",
    "from bigdl.optim.optimizer import *\n",
    "from bigdl.dataset import movielens\n",
    "from bigdl.util.common import *\n",
    "\n",
    "# data science imports\n",
    "import math\n",
    "import numpy as np\n",
    "import pandas as pd\n",
    "from sklearn import metrics\n",
    "from operator import itemgetter"
   ]
  },
  {
   "cell_type": "code",
   "execution_count": 2,
   "metadata": {},
   "outputs": [],
   "source": [
    "data_path = 'hdfs:///user/andrew/'"
   ]
  },
  {
   "cell_type": "code",
   "execution_count": 3,
   "metadata": {},
   "outputs": [],
   "source": [
    "sc = init_nncontext(\"NCF Example\")"
   ]
  },
  {
   "cell_type": "markdown",
   "metadata": {},
   "source": [
    "## Data Preparation"
   ]
  },
  {
   "cell_type": "code",
   "execution_count": 4,
   "metadata": {},
   "outputs": [],
   "source": [
    "sqlContext = SQLContext(sc)\n",
    "# Row formats for imported data\n",
    "Rating = Row(\"userId\", \"movieId\", \"rating\") # \"timespamp\" ignored\n",
    "Item = Row(\"movieId\", \"title\" ,\"genres\")\n",
    "\n",
    "# Load data\n",
    "ratings = sc.textFile(data_path + \"ratings.dat\") \\\n",
    "    .map(lambda line:line.split(\"::\")[0:3]) \\\n",
    "    .map(lambda line: (int(line[0]), int(line[1]), float(line[2]))) \\\n",
    "    .map(lambda r: Rating(*r))\n",
    "ratings = sqlContext.createDataFrame(ratings)\n",
    "\n",
    "movies = sc.textFile(data_path + \"movies.dat\") \\\n",
    "    .map(lambda line: line.split(\"::\")[0:2]) \\\n",
    "    .map(lambda line: (int(line[0]), line[1])) \\\n",
    "    .map(lambda r: Item(*r))\n",
    "movies = sqlContext.createDataFrame(movies)"
   ]
  },
  {
   "cell_type": "code",
   "execution_count": 5,
   "metadata": {},
   "outputs": [
    {
     "name": "stdout",
     "output_type": "stream",
     "text": [
      "800228\n"
     ]
    },
    {
     "data": {
      "text/plain": [
       "[Row(userId=1, movieId=1, rating=5.0),\n",
       " Row(userId=1, movieId=527, rating=5.0),\n",
       " Row(userId=1, movieId=531, rating=4.0)]"
      ]
     },
     "execution_count": 5,
     "metadata": {},
     "output_type": "execute_result"
    }
   ],
   "source": [
    "# Create training and validation sets\n",
    "ratings_train, ratings_val = ratings.randomSplit([0.8, 0.2], seed = 42)\n",
    "print(ratings_train.count())\n",
    "ratings_train.take(3)"
   ]
  },
  {
   "cell_type": "code",
   "execution_count": 6,
   "metadata": {},
   "outputs": [],
   "source": [
    "# Prepare the RDDs of Sample for the NCF model\n",
    "# train and val will be used now, and full will be used later\n",
    "def build_sample(user_id, item_id, rating):\n",
    "    sample = Sample.from_ndarray(np.array([user_id, item_id]), np.array([rating]))\n",
    "    return UserItemFeature(user_id, item_id, sample)\n",
    "\n",
    "fullPairFeatureRdds = ratings.rdd.map(lambda x: build_sample(x[0], x[1], x[2]))\n",
    "trainPairFeatureRdds = ratings_train.rdd.map(lambda x: build_sample(x[0], x[1], x[2]))\n",
    "valPairFeatureRdds = ratings_val.rdd.map(lambda x: build_sample(x[0], x[1], x[2]))\n",
    "\n",
    "full_rdd = fullPairFeatureRdds.map(lambda pair_feature: pair_feature.sample)\n",
    "train_rdd = trainPairFeatureRdds.map(lambda pair_feature: pair_feature.sample)\n",
    "val_rdd = valPairFeatureRdds.map(lambda pair_feature: pair_feature.sample)"
   ]
  },
  {
   "cell_type": "code",
   "execution_count": 7,
   "metadata": {},
   "outputs": [
    {
     "name": "stdout",
     "output_type": "stream",
     "text": [
      "800228\n"
     ]
    },
    {
     "data": {
      "text/plain": [
       "[Sample: features: [JTensor: storage: [1. 1.], shape: [2], float], labels: [JTensor: storage: [5.], shape: [1], float],\n",
       " Sample: features: [JTensor: storage: [  1. 527.], shape: [2], float], labels: [JTensor: storage: [5.], shape: [1], float],\n",
       " Sample: features: [JTensor: storage: [  1. 531.], shape: [2], float], labels: [JTensor: storage: [4.], shape: [1], float]]"
      ]
     },
     "execution_count": 7,
     "metadata": {},
     "output_type": "execute_result"
    }
   ],
   "source": [
    "print(train_rdd.count())\n",
    "train_rdd.take(3)"
   ]
  },
  {
   "cell_type": "markdown",
   "metadata": {},
   "source": [
    "## ALS and NCF Model Training and Validation on Training Data"
   ]
  },
  {
   "cell_type": "markdown",
   "metadata": {},
   "source": [
    "### Train and evaluate the ALS model with training data"
   ]
  },
  {
   "cell_type": "code",
   "execution_count": 8,
   "metadata": {},
   "outputs": [
    {
     "name": "stdout",
     "output_type": "stream",
     "text": [
      "Training Error (MAE): 0.646367688753\n",
      "Validation Error (MAE): 0.688705264902\n",
      "CPU times: user 59.9 ms, sys: 7.73 ms, total: 67.7 ms\n",
      "Wall time: 31 s\n"
     ]
    }
   ],
   "source": [
    "%%time\n",
    "# Create the ALS models and set parameters\n",
    "als = ALS(seed = 42, regParam = 0.1, maxIter = 15, rank = 12, \n",
    "          userCol = \"userId\", itemCol = \"movieId\", ratingCol = \"rating\")\n",
    "# Using MAE for the scoring metric\n",
    "evaluator = RegressionEvaluator(metricName=\"mae\", labelCol=\"rating\",\n",
    "                                predictionCol=\"prediction\")\n",
    "# Train and evaluate the models - if training error is more than slightly less than validation error, the model has been overfit\n",
    "als_model = als.fit(ratings_train)\n",
    "print 'Training Error (MAE):', evaluator.evaluate(als_model.transform(ratings_train))\n",
    "print 'Validation Error (MAE):', evaluator.evaluate(als_model.transform(ratings_val).fillna(0))"
   ]
  },
  {
   "cell_type": "markdown",
   "metadata": {},
   "source": [
    "### Train and evaluate the NCF model with training data"
   ]
  },
  {
   "cell_type": "code",
   "execution_count": 9,
   "metadata": {},
   "outputs": [
    {
     "name": "stdout",
     "output_type": "stream",
     "text": [
      "creating: createZooNeuralCF\n",
      "creating: createClassNLLCriterion\n",
      "creating: createMaxEpoch\n",
      "creating: createAdam\n",
      "creating: createDistriOptimizer\n",
      "creating: createEveryEpoch\n",
      "creating: createMAE\n",
      "creating: createClassNLLCriterion\n",
      "creating: createLoss\n",
      "CPU times: user 25.6 ms, sys: 7.97 ms, total: 33.6 ms\n",
      "Wall time: 2min 26s\n"
     ]
    }
   ],
   "source": [
    "%%time\n",
    "# Set parameters for the NCF model.\n",
    "# Batch size should be a multiple of the total number of cores in the Spark environment\n",
    "# max_user_id and max_movie_id are used for matching ids to embedding values\n",
    "batch_size = 2560\n",
    "max_user_id = ratings.agg({'userId': 'max'}).collect()[0]['max(userId)']\n",
    "max_movie_id = ratings.agg({'movieId': 'max'}).collect()[0]['max(movieId)']\n",
    "# Set other parameters and initialize the model\n",
    "ncf = NeuralCF(user_count=max_user_id, item_count=max_movie_id, class_num=5, hidden_layers=[20, 10], include_mf = False)\n",
    "\n",
    "# Define the model optimizer\n",
    "optimizer = Optimizer(\n",
    "    model=ncf,\n",
    "    training_rdd=train_rdd,\n",
    "    criterion=ClassNLLCriterion(),\n",
    "    end_trigger=MaxEpoch(10),\n",
    "    batch_size=batch_size, # 16 executors, 16 cores each\n",
    "    optim_method=Adam(learningrate=0.001))\n",
    "\n",
    "# Set the validation method for the optimizer\n",
    "optimizer.set_validation(\n",
    "    batch_size=batch_size, # 16 executors, 16 cores each\n",
    "    val_rdd=val_rdd,\n",
    "    trigger=EveryEpoch(),\n",
    "    val_method=[MAE(), Loss(ClassNLLCriterion())]\n",
    ")\n",
    "\n",
    "# Train the model\n",
    "optimizer.optimize()"
   ]
  },
  {
   "cell_type": "code",
   "execution_count": 10,
   "metadata": {},
   "outputs": [
    {
     "name": "stdout",
     "output_type": "stream",
     "text": [
      "creating: createMAE\n",
      "creating: createMAE\n",
      "Training Error (MAE): Evaluated result: 0.658410191536, total_num: 626, method: MAE\n",
      "Validation Error (MAE): Evaluated result: 0.684635400772, total_num: 157, method: MAE\n",
      "CPU times: user 10.6 ms, sys: 1.72 ms, total: 12.3 ms\n",
      "Wall time: 32.6 s\n"
     ]
    }
   ],
   "source": [
    "%%time\n",
    "# Evaluate the model using MAE as the scoring metric\n",
    "train_res = ncf.evaluate(train_rdd, batch_size, [MAE()])\n",
    "val_res = ncf.evaluate(val_rdd, batch_size, [MAE()])\n",
    "# If training error is more than slightly less than validation error, the model has been overfit\n",
    "print 'Training Error (MAE):', train_res[0]\n",
    "print 'Validation Error (MAE):', val_res[0]"
   ]
  },
  {
   "cell_type": "markdown",
   "metadata": {},
   "source": [
    "## ALS and NCF Model Training and Validation on the entire dataset"
   ]
  },
  {
   "cell_type": "code",
   "execution_count": 11,
   "metadata": {},
   "outputs": [],
   "source": [
    "# Create a sparse matrix of all userIds and movieIds.\n",
    "# userIds are the rows and movieIds are the columns. Any position without an explicit rating is given a value of 0.\n",
    "ratings_df = ratings.toPandas()\n",
    "ratings_matrix = ratings_df.pivot(index='userId',columns='movieId',values='rating').fillna(0)"
   ]
  },
  {
   "cell_type": "code",
   "execution_count": 12,
   "metadata": {},
   "outputs": [
    {
     "data": {
      "text/plain": [
       "(22384240, 3)"
      ]
     },
     "execution_count": 12,
     "metadata": {},
     "output_type": "execute_result"
    }
   ],
   "source": [
    "# Transform the userId x movieId back into three column format. (Will be much larger now)\n",
    "ratings_matrix['userId'] = ratings_matrix.index\n",
    "ratings_df_2 = pd.melt(ratings_matrix, id_vars = ['userId'], value_vars = list(ratings_matrix.columns).remove('userId'))\n",
    "ratings_df_2.columns = ['userId', 'movieId', 'rating']\n",
    "ratings_df_2.shape"
   ]
  },
  {
   "cell_type": "code",
   "execution_count": 13,
   "metadata": {},
   "outputs": [
    {
     "data": {
      "text/plain": [
       "(21384031, 3)"
      ]
     },
     "execution_count": 13,
     "metadata": {},
     "output_type": "execute_result"
    }
   ],
   "source": [
    "# remove the userId, movieId pairs that already have ratings\n",
    "ratings_blanks_df = ratings_df_2.iloc[np.where(ratings_df_2.rating == 0)]\n",
    "ratings_blanks_df.shape"
   ]
  },
  {
   "cell_type": "code",
   "execution_count": 14,
   "metadata": {},
   "outputs": [
    {
     "name": "stdout",
     "output_type": "stream",
     "text": [
      "CPU times: user 10min 47s, sys: 7.44 s, total: 10min 55s\n",
      "Wall time: 10min 53s\n"
     ]
    }
   ],
   "source": [
    "%%time\n",
    "# Conver to spark dataframe\n",
    "# This will be used by the ALS model for recommendations\n",
    "ratings_blanks = sqlContext.createDataFrame(ratings_blanks_df)\n",
    "del ratings_df, ratings_matrix, ratings_df_2, ratings_blanks_df"
   ]
  },
  {
   "cell_type": "code",
   "execution_count": 15,
   "metadata": {},
   "outputs": [],
   "source": [
    "# Build the RDDs of Sample for the unrated userId, movieId pairs\n",
    "# This will be used by the NCF model for recommendations\n",
    "blankPairFeatureRdds = ratings_blanks.rdd.map(lambda x: build_sample(x[0], x[1], x[2]))"
   ]
  },
  {
   "cell_type": "code",
   "execution_count": 16,
   "metadata": {},
   "outputs": [
    {
     "name": "stdout",
     "output_type": "stream",
     "text": [
      "Model Error (MAE): 0.655533489375\n",
      "CPU times: user 28.6 ms, sys: 10 ms, total: 38.6 ms\n",
      "Wall time: 17 s\n"
     ]
    }
   ],
   "source": [
    "%%time\n",
    "# Set parameters and train the ALS on the full rated dataset\n",
    "als = ALS(seed = 42, regParam = 0.1, maxIter = 15, rank = 12,\n",
    "          userCol = \"userId\", itemCol = \"movieId\", ratingCol = \"rating\")\n",
    "evaluator = RegressionEvaluator(metricName=\"mae\", labelCol=\"rating\",\n",
    "                                predictionCol=\"prediction\")\n",
    "als_model = als.fit(ratings)\n",
    "# Evaluate the model on the training set\n",
    "print 'Model Error (MAE):', evaluator.evaluate(als_model.transform(ratings))"
   ]
  },
  {
   "cell_type": "code",
   "execution_count": 17,
   "metadata": {},
   "outputs": [
    {
     "name": "stdout",
     "output_type": "stream",
     "text": [
      "creating: createZooNeuralCF\n",
      "creating: createClassNLLCriterion\n",
      "creating: createMaxEpoch\n",
      "creating: createAdam\n",
      "creating: createDistriOptimizer\n",
      "creating: createMAE\n",
      "Model Error (MAE): Evaluated result: 0.655768036842, total_num: 783, method: MAE\n",
      "CPU times: user 28.3 ms, sys: 4.82 ms, total: 33.1 ms\n",
      "Wall time: 2min 50s\n"
     ]
    }
   ],
   "source": [
    "%%time\n",
    "# Set parameters and train the NCF on the full rated dataset, keep the previously defined batch_size\n",
    "max_user_id = ratings.agg({'userId': 'max'}).collect()[0]['max(userId)']\n",
    "max_movie_id = ratings.agg({'movieId': 'max'}).collect()[0]['max(movieId)']\n",
    "ncf = NeuralCF(user_count=max_user_id, item_count=max_movie_id, class_num=5, hidden_layers=[20, 10], include_mf = False)\n",
    "# Define the optimizer\n",
    "optimizer = Optimizer(\n",
    "    model=ncf,\n",
    "    training_rdd=full_rdd,\n",
    "    criterion=ClassNLLCriterion(),\n",
    "    end_trigger=MaxEpoch(10),\n",
    "    batch_size=batch_size, # 16 executors, 16 cores each\n",
    "    optim_method=Adam(learningrate=0.001))\n",
    "# Train the model\n",
    "optimizer.optimize()\n",
    "# Evaluate the model on the training set\n",
    "full_res = ncf.evaluate(full_rdd, batch_size, [MAE()])\n",
    "print 'Model Error (MAE):', full_res[0]"
   ]
  },
  {
   "cell_type": "markdown",
   "metadata": {},
   "source": [
    "### Predictions Comparison\n",
    "\n",
    "Compare the prediction between ALS and NCF for one specific user. The user id is specified in the final two cells"
   ]
  },
  {
   "cell_type": "code",
   "execution_count": 18,
   "metadata": {},
   "outputs": [
    {
     "name": "stdout",
     "output_type": "stream",
     "text": [
      "CPU times: user 27 ms, sys: 4.11 ms, total: 31.1 ms\n",
      "Wall time: 1min 32s\n"
     ]
    }
   ],
   "source": [
    "%%time\n",
    "# Create recommendations for all users. \n",
    "# The NCF model allow the number of recommendations to be limited to a top set, in this case the top 10 recommendations.\n",
    "als_pair_preds = als_model.transform(ratings_blanks)\n",
    "ncf_pair_preds = ncf.recommend_for_user(blankPairFeatureRdds, 10).toDF()"
   ]
  },
  {
   "cell_type": "code",
   "execution_count": 19,
   "metadata": {},
   "outputs": [
    {
     "name": "stdout",
     "output_type": "stream",
     "text": [
      "+------+-------+------+----------+\n",
      "|userId|movieId|rating|prediction|\n",
      "+------+-------+------+----------+\n",
      "|   243|    148|   0.0| 2.6787767|\n",
      "|   392|    148|   0.0|  2.493863|\n",
      "|   540|    148|   0.0| 2.5721192|\n",
      "|   623|    148|   0.0| 3.0742738|\n",
      "|   737|    148|   0.0| 2.8385499|\n",
      "+------+-------+------+----------+\n",
      "only showing top 5 rows\n",
      "\n"
     ]
    }
   ],
   "source": [
    "als_pair_preds.show(5)"
   ]
  },
  {
   "cell_type": "code",
   "execution_count": 20,
   "metadata": {},
   "outputs": [
    {
     "name": "stdout",
     "output_type": "stream",
     "text": [
      "+----------+-------+----------+------------------+-------+\n",
      "|bigdl_type|item_id|prediction|       probability|user_id|\n",
      "+----------+-------+----------+------------------+-------+\n",
      "|     float|   2905|         5|0.7960795249610225|   3840|\n",
      "|     float|    318|         5|0.7615469311867679|   3840|\n",
      "|     float|   1262|         5|0.7510181537714825|   3840|\n",
      "|     float|     53|         5|0.7488545115398759|   3840|\n",
      "|     float|    745|         5|0.7425894443213458|   3840|\n",
      "+----------+-------+----------+------------------+-------+\n",
      "only showing top 5 rows\n",
      "\n"
     ]
    }
   ],
   "source": [
    "ncf_pair_preds.show(5)"
   ]
  },
  {
   "cell_type": "code",
   "execution_count": 21,
   "metadata": {},
   "outputs": [],
   "source": [
    "# Select the userId, movieId, and prediction columns\n",
    "# The predictions are the predicted rating for the userId, movieId pair\n",
    "als_preds = als_pair_preds.select('userId', 'movieId', 'prediction').toDF('userId', 'movieId', 'als_pred')\n",
    "ncf_preds_topN = ncf_pair_preds.select('user_id', 'item_id', 'prediction').toDF('userId', 'movieId', 'ncf_pred')\n",
    "del als_pair_preds, ncf_pair_preds"
   ]
  },
  {
   "cell_type": "code",
   "execution_count": 22,
   "metadata": {},
   "outputs": [],
   "source": [
    "# Filtering the ALS recommendations to the top 10\n",
    "from pyspark.sql.window import Window\n",
    "from pyspark.sql.functions import rank, col, row_number\n",
    "\n",
    "# Create a window for each userId, with sorted predictions\n",
    "window = Window.partitionBy(als_preds['userId']).orderBy(als_preds['als_pred'].desc())\n",
    "# For each userId, keep the top 10 rows\n",
    "als_preds_topN = als_preds.select(col('*'), row_number().over(window).alias('row_number')).where(col('row_number') <= 10)"
   ]
  },
  {
   "cell_type": "code",
   "execution_count": 23,
   "metadata": {},
   "outputs": [],
   "source": [
    "# Combine the recommendations with movie information, this will make the recommendations more understandable\n",
    "als_preds_topN_labeled = als_preds_topN.join(movies, how = 'left', on = 'movieId')\n",
    "ncf_preds_topN_labeled = ncf_preds_topN.join(movies, how = 'left', on = 'movieId')\n",
    "del window, als_preds, als_preds_topN, ncf_preds_topN"
   ]
  },
  {
   "cell_type": "code",
   "execution_count": 24,
   "metadata": {},
   "outputs": [],
   "source": [
    "# Keep only essential columns\n",
    "als_final = als_preds_topN_labeled.select('userId', 'movieId', 'als_pred', 'title').sort(col(\"userId\"))\n",
    "ncf_final = ncf_preds_topN_labeled.select('userId', 'movieId', 'ncf_pred', 'title').sort(col(\"userId\"))"
   ]
  },
  {
   "cell_type": "code",
   "execution_count": 25,
   "metadata": {},
   "outputs": [
    {
     "name": "stdout",
     "output_type": "stream",
     "text": [
      "+------+-------+---------+--------------------+\n",
      "|userId|movieId| als_pred|               title|\n",
      "+------+-------+---------+--------------------+\n",
      "|     1|    318|4.5874867|Shawshank Redempt...|\n",
      "|     1|   3233|  4.73503|Smashing Time (1967)|\n",
      "|     1|    953|4.5261497|It's a Wonderful ...|\n",
      "|     1|   2129| 4.416759|Saltmen of Tibet,...|\n",
      "|     1|    593|4.4463463|Silence of the La...|\n",
      "|     1|    904| 4.435828|  Rear Window (1954)|\n",
      "|     1|    858|4.4980555|Godfather, The (1...|\n",
      "|     1|    989| 4.475181|Schlafes Bruder (...|\n",
      "|     1|   3517|4.5038576|   Bells, The (1926)|\n",
      "|     1|    572|5.5205665|Foreign Student (...|\n",
      "+------+-------+---------+--------------------+\n",
      "only showing top 10 rows\n",
      "\n"
     ]
    }
   ],
   "source": [
    "als_final.show(10)"
   ]
  },
  {
   "cell_type": "code",
   "execution_count": 26,
   "metadata": {},
   "outputs": [
    {
     "name": "stdout",
     "output_type": "stream",
     "text": [
      "+------+-------+--------+--------------------+\n",
      "|userId|movieId|ncf_pred|               title|\n",
      "+------+-------+--------+--------------------+\n",
      "|     1|   2905|       5|      Sanjuro (1962)|\n",
      "|     1|   1178|       5|Paths of Glory (1...|\n",
      "|     1|    318|       5|Shawshank Redempt...|\n",
      "|     1|   3233|       5|Smashing Time (1967)|\n",
      "|     1|   3338|       5|For All Mankind (...|\n",
      "|     1|   3382|       5|Song of Freedom (...|\n",
      "|     1|    668|       5|Pather Panchali (...|\n",
      "|     1|     53|       5|     Lamerica (1994)|\n",
      "|     1|     50|       5|Usual Suspects, T...|\n",
      "|     1|    787|       5|Gate of Heavenly ...|\n",
      "+------+-------+--------+--------------------+\n",
      "only showing top 10 rows\n",
      "\n"
     ]
    }
   ],
   "source": [
    "ncf_final.show(10)"
   ]
  },
  {
   "cell_type": "code",
   "execution_count": 27,
   "metadata": {},
   "outputs": [],
   "source": [
    "# Convert to pandas to specific userIds can be viewed easily\n",
    "als_final_df = als_final.toPandas()\n",
    "ncf_final_df = ncf_final.toPandas()"
   ]
  },
  {
   "cell_type": "code",
   "execution_count": 28,
   "metadata": {},
   "outputs": [
    {
     "data": {
      "text/html": [
       "<div>\n",
       "<style scoped>\n",
       "    .dataframe tbody tr th:only-of-type {\n",
       "        vertical-align: middle;\n",
       "    }\n",
       "\n",
       "    .dataframe tbody tr th {\n",
       "        vertical-align: top;\n",
       "    }\n",
       "\n",
       "    .dataframe thead th {\n",
       "        text-align: right;\n",
       "    }\n",
       "</style>\n",
       "<table border=\"1\" class=\"dataframe\">\n",
       "  <thead>\n",
       "    <tr style=\"text-align: right;\">\n",
       "      <th></th>\n",
       "      <th>userId</th>\n",
       "      <th>movieId</th>\n",
       "      <th>als_pred</th>\n",
       "      <th>title</th>\n",
       "    </tr>\n",
       "  </thead>\n",
       "  <tbody>\n",
       "    <tr>\n",
       "      <th>49990</th>\n",
       "      <td>5000</td>\n",
       "      <td>2129</td>\n",
       "      <td>5.350278</td>\n",
       "      <td>Saltmen of Tibet, The (1997)</td>\n",
       "    </tr>\n",
       "    <tr>\n",
       "      <th>49991</th>\n",
       "      <td>5000</td>\n",
       "      <td>1234</td>\n",
       "      <td>4.959550</td>\n",
       "      <td>Sting, The (1973)</td>\n",
       "    </tr>\n",
       "    <tr>\n",
       "      <th>49992</th>\n",
       "      <td>5000</td>\n",
       "      <td>989</td>\n",
       "      <td>5.078969</td>\n",
       "      <td>Schlafes Bruder (Brother of Sleep) (1995)</td>\n",
       "    </tr>\n",
       "    <tr>\n",
       "      <th>49993</th>\n",
       "      <td>5000</td>\n",
       "      <td>811</td>\n",
       "      <td>5.015543</td>\n",
       "      <td>Bewegte Mann, Der (1994)</td>\n",
       "    </tr>\n",
       "    <tr>\n",
       "      <th>49994</th>\n",
       "      <td>5000</td>\n",
       "      <td>1250</td>\n",
       "      <td>5.008807</td>\n",
       "      <td>Bridge on the River Kwai, The (1957)</td>\n",
       "    </tr>\n",
       "    <tr>\n",
       "      <th>49995</th>\n",
       "      <td>5000</td>\n",
       "      <td>904</td>\n",
       "      <td>5.004963</td>\n",
       "      <td>Rear Window (1954)</td>\n",
       "    </tr>\n",
       "    <tr>\n",
       "      <th>49996</th>\n",
       "      <td>5000</td>\n",
       "      <td>3233</td>\n",
       "      <td>5.180070</td>\n",
       "      <td>Smashing Time (1967)</td>\n",
       "    </tr>\n",
       "    <tr>\n",
       "      <th>49997</th>\n",
       "      <td>5000</td>\n",
       "      <td>1207</td>\n",
       "      <td>4.975183</td>\n",
       "      <td>To Kill a Mockingbird (1962)</td>\n",
       "    </tr>\n",
       "    <tr>\n",
       "      <th>49998</th>\n",
       "      <td>5000</td>\n",
       "      <td>3172</td>\n",
       "      <td>5.149885</td>\n",
       "      <td>Ulysses (Ulisse) (1954)</td>\n",
       "    </tr>\n",
       "    <tr>\n",
       "      <th>49999</th>\n",
       "      <td>5000</td>\n",
       "      <td>572</td>\n",
       "      <td>6.142802</td>\n",
       "      <td>Foreign Student (1994)</td>\n",
       "    </tr>\n",
       "  </tbody>\n",
       "</table>\n",
       "</div>"
      ],
      "text/plain": [
       "       userId  movieId  als_pred                                      title\n",
       "49990    5000     2129  5.350278               Saltmen of Tibet, The (1997)\n",
       "49991    5000     1234  4.959550                          Sting, The (1973)\n",
       "49992    5000      989  5.078969  Schlafes Bruder (Brother of Sleep) (1995)\n",
       "49993    5000      811  5.015543                   Bewegte Mann, Der (1994)\n",
       "49994    5000     1250  5.008807       Bridge on the River Kwai, The (1957)\n",
       "49995    5000      904  5.004963                         Rear Window (1954)\n",
       "49996    5000     3233  5.180070                       Smashing Time (1967)\n",
       "49997    5000     1207  4.975183               To Kill a Mockingbird (1962)\n",
       "49998    5000     3172  5.149885                    Ulysses (Ulisse) (1954)\n",
       "49999    5000      572  6.142802                     Foreign Student (1994)"
      ]
     },
     "execution_count": 28,
     "metadata": {},
     "output_type": "execute_result"
    }
   ],
   "source": [
    "als_final_df.iloc[np.where(als_final_df.userId == 5000)]"
   ]
  },
  {
   "cell_type": "code",
   "execution_count": 29,
   "metadata": {},
   "outputs": [
    {
     "data": {
      "text/html": [
       "<div>\n",
       "<style scoped>\n",
       "    .dataframe tbody tr th:only-of-type {\n",
       "        vertical-align: middle;\n",
       "    }\n",
       "\n",
       "    .dataframe tbody tr th {\n",
       "        vertical-align: top;\n",
       "    }\n",
       "\n",
       "    .dataframe thead th {\n",
       "        text-align: right;\n",
       "    }\n",
       "</style>\n",
       "<table border=\"1\" class=\"dataframe\">\n",
       "  <thead>\n",
       "    <tr style=\"text-align: right;\">\n",
       "      <th></th>\n",
       "      <th>userId</th>\n",
       "      <th>movieId</th>\n",
       "      <th>ncf_pred</th>\n",
       "      <th>title</th>\n",
       "    </tr>\n",
       "  </thead>\n",
       "  <tbody>\n",
       "    <tr>\n",
       "      <th>49990</th>\n",
       "      <td>5000</td>\n",
       "      <td>3382</td>\n",
       "      <td>5</td>\n",
       "      <td>Song of Freedom (1936)</td>\n",
       "    </tr>\n",
       "    <tr>\n",
       "      <th>49991</th>\n",
       "      <td>5000</td>\n",
       "      <td>50</td>\n",
       "      <td>5</td>\n",
       "      <td>Usual Suspects, The (1995)</td>\n",
       "    </tr>\n",
       "    <tr>\n",
       "      <th>49992</th>\n",
       "      <td>5000</td>\n",
       "      <td>1002</td>\n",
       "      <td>5</td>\n",
       "      <td>Ed's Next Move (1996)</td>\n",
       "    </tr>\n",
       "    <tr>\n",
       "      <th>49993</th>\n",
       "      <td>5000</td>\n",
       "      <td>3233</td>\n",
       "      <td>5</td>\n",
       "      <td>Smashing Time (1967)</td>\n",
       "    </tr>\n",
       "    <tr>\n",
       "      <th>49994</th>\n",
       "      <td>5000</td>\n",
       "      <td>2503</td>\n",
       "      <td>5</td>\n",
       "      <td>Apple, The (Sib) (1998)</td>\n",
       "    </tr>\n",
       "    <tr>\n",
       "      <th>49995</th>\n",
       "      <td>5000</td>\n",
       "      <td>745</td>\n",
       "      <td>5</td>\n",
       "      <td>Close Shave, A (1995)</td>\n",
       "    </tr>\n",
       "    <tr>\n",
       "      <th>49996</th>\n",
       "      <td>5000</td>\n",
       "      <td>787</td>\n",
       "      <td>5</td>\n",
       "      <td>Gate of Heavenly Peace, The (1995)</td>\n",
       "    </tr>\n",
       "    <tr>\n",
       "      <th>49997</th>\n",
       "      <td>5000</td>\n",
       "      <td>1423</td>\n",
       "      <td>5</td>\n",
       "      <td>Hearts and Minds (1996)</td>\n",
       "    </tr>\n",
       "    <tr>\n",
       "      <th>49998</th>\n",
       "      <td>5000</td>\n",
       "      <td>2905</td>\n",
       "      <td>5</td>\n",
       "      <td>Sanjuro (1962)</td>\n",
       "    </tr>\n",
       "    <tr>\n",
       "      <th>49999</th>\n",
       "      <td>5000</td>\n",
       "      <td>53</td>\n",
       "      <td>5</td>\n",
       "      <td>Lamerica (1994)</td>\n",
       "    </tr>\n",
       "  </tbody>\n",
       "</table>\n",
       "</div>"
      ],
      "text/plain": [
       "       userId  movieId  ncf_pred                               title\n",
       "49990    5000     3382         5              Song of Freedom (1936)\n",
       "49991    5000       50         5          Usual Suspects, The (1995)\n",
       "49992    5000     1002         5               Ed's Next Move (1996)\n",
       "49993    5000     3233         5                Smashing Time (1967)\n",
       "49994    5000     2503         5             Apple, The (Sib) (1998)\n",
       "49995    5000      745         5               Close Shave, A (1995)\n",
       "49996    5000      787         5  Gate of Heavenly Peace, The (1995)\n",
       "49997    5000     1423         5             Hearts and Minds (1996)\n",
       "49998    5000     2905         5                      Sanjuro (1962)\n",
       "49999    5000       53         5                     Lamerica (1994)"
      ]
     },
     "execution_count": 29,
     "metadata": {},
     "output_type": "execute_result"
    }
   ],
   "source": [
    "ncf_final_df.iloc[np.where(ncf_final_df.userId == 5000)]"
   ]
  },
  {
   "cell_type": "code",
   "execution_count": 30,
   "metadata": {},
   "outputs": [],
   "source": [
    "# sc.stop()"
   ]
  }
 ],
 "metadata": {
  "kernelspec": {
   "display_name": "Python 2",
   "language": "python",
   "name": "python2"
  },
  "language_info": {
   "codemirror_mode": {
    "name": "ipython",
    "version": 2
   },
   "file_extension": ".py",
   "mimetype": "text/x-python",
   "name": "python",
   "nbconvert_exporter": "python",
   "pygments_lexer": "ipython2",
   "version": "2.7.5"
  }
 },
 "nbformat": 4,
 "nbformat_minor": 2
}
