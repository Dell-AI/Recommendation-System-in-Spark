{
 "cells": [
  {
   "cell_type": "markdown",
   "metadata": {
    "collapsed": true
   },
   "source": [
    "## Wide & Deep Recommender Demo"
   ]
  },
  {
   "cell_type": "markdown",
   "metadata": {},
   "source": [
    "Wide and Deep Learning Model, proposed by Google in 2016, is a DNN-Linear mixed model. Wide and deep learning has been used for Google App Store for their app recommendation.\n",
    "\n",
    "In this tutorial, we use Recommender API of Analytics Zoo to build a wide linear model and a deep neural network, which is called Wide&Deep model, and use optimizer of BigDL to train the neural network. Wide&Deep model combines the strength of memorization and generalization. It's useful for generic large-scale regression and classification problems with sparse input features (e.g., categorical features with a large number of possible feature values)."
   ]
  },
  {
   "cell_type": "markdown",
   "metadata": {},
   "source": [
    "## Intialization"
   ]
  },
  {
   "cell_type": "markdown",
   "metadata": {},
   "source": [
    "* import necessary libraries"
   ]
  },
  {
   "cell_type": "code",
   "execution_count": 1,
   "metadata": {},
   "outputs": [
    {
     "name": "stdout",
     "output_type": "stream",
     "text": [
      "Populating the interactive namespace from numpy and matplotlib\n"
     ]
    },
    {
     "name": "stderr",
     "output_type": "stream",
     "text": [
      "/usr/lib/python2.7/site-packages/IPython/core/magics/pylab.py:161: UserWarning: pylab import has clobbered these variables: ['Normalize']\n",
      "`%matplotlib` prevents importing * from pylab and numpy\n",
      "  \"\\n`%matplotlib` prevents importing * from pylab and numpy\"\n"
     ]
    }
   ],
   "source": [
    "from zoo.models.recommendation import *\n",
    "from zoo.models.recommendation.utils import *\n",
    "from zoo.common.nncontext import init_nncontext\n",
    "import os\n",
    "import sys\n",
    "import datetime as dt\n",
    "from bigdl.dataset.transformer import *\n",
    "from bigdl.dataset.base import *\n",
    "from bigdl.nn.criterion import *\n",
    "from bigdl.optim.optimizer import *\n",
    "from bigdl.util.common import *\n",
    "import matplotlib\n",
    "\n",
    "from bigdl.nn.layer import *\n",
    "from bigdl.util.common import *\n",
    "\n",
    "import warnings\n",
    "warnings.filterwarnings(\"ignore\", message=\"numpy.dtype size changed\")\n",
    "\n",
    "matplotlib.use('agg')\n",
    "import matplotlib.pyplot as plt\n",
    "%pylab inline"
   ]
  },
  {
   "cell_type": "code",
   "execution_count": 2,
   "metadata": {},
   "outputs": [],
   "source": [
    "data_path = 'hdfs:///user/andrew/'"
   ]
  },
  {
   "cell_type": "markdown",
   "metadata": {},
   "source": [
    "* Initilaize NN context, it will get a SparkContext with optimized configuration for BigDL performance."
   ]
  },
  {
   "cell_type": "code",
   "execution_count": 3,
   "metadata": {},
   "outputs": [],
   "source": [
    "# sc = init_nncontext(\"WideAndDeep Example\")\n",
    "init_engine()"
   ]
  },
  {
   "cell_type": "markdown",
   "metadata": {},
   "source": [
    "## Data Preparation"
   ]
  },
  {
   "cell_type": "markdown",
   "metadata": {},
   "source": [
    "* Download and read movielens 1M rating data, understand the dimension."
   ]
  },
  {
   "cell_type": "code",
   "execution_count": 4,
   "metadata": {},
   "outputs": [],
   "source": [
    "sqlContext = SQLContext(sc)\n",
    "from pyspark.sql.types import *\n",
    "from pyspark.sql import Row\n",
    "\n",
    "# sdf indicates spark dataframe\n",
    "movies_sdf = sqlContext.read.parquet(data_path + 'movie_metadata_OHE_subset')\n",
    "users_full_sdf = sqlContext.read.parquet(data_path + 'users_metadata') \n",
    "users_full_sdf = users_full_sdf.na.fill(0)\n",
    "\n",
    "Rating = Row(\"userId\", \"itemId\", \"label\") # Ignore timestamp\n",
    "ratings = sc.textFile(data_path + 'ratings.dat')\\\n",
    "    .map(lambda line: line.split(\"::\")[0:3])\\\n",
    "    .map(lambda line: map(int, line))\\\n",
    "    .map(lambda r: Rating(*r))\n",
    "ratings_sdf = sqlContext.createDataFrame(ratings)"
   ]
  },
  {
   "cell_type": "code",
   "execution_count": 5,
   "metadata": {},
   "outputs": [],
   "source": [
    "# Join the full ratings with the movies' profile data, then add the users' profile data\n",
    "ratings_metadata_sdf = ratings_sdf.join(movies_sdf, ratings_sdf.itemId == movies_sdf.item_id).drop(movies_sdf.item_id)\n",
    "\n",
    "full_sdf = ratings_metadata_sdf.join(users_full_sdf, ratings_metadata_sdf.userId == users_full_sdf.user_id) \\\n",
    "            .drop(users_full_sdf.user_id)"
   ]
  },
  {
   "cell_type": "code",
   "execution_count": 6,
   "metadata": {},
   "outputs": [],
   "source": [
    "# Create lists of columns sets\n",
    "identifier_fields = ['userId', 'itemId', 'label', 'title', 'imdb_id']\n",
    "continuous_base_fields = ['imdb_rating', 'imdb_votes', 'metascore', 'runtime', 'year']\n",
    "indicator_base_fields = ['gender_F', 'gender_M', 'age_group_1', \n",
    "                         'age_group_18', 'age_group_25', 'age_group_35', \n",
    "                         'age_group_45', 'age_group_50', 'age_group_56']\n",
    "all_base_fields = identifier_fields + continuous_base_fields + indicator_base_fields\n",
    "\n",
    "user_avgs = [col_name for col_name in full_sdf.columns if col_name[-11:] == '_avg_rating']\n",
    "movie_metadata = [col_name for col_name in full_sdf.columns \n",
    "                  if (col_name[-11:] != '_avg_rating' and col_name not in all_base_fields)]\n",
    "\n",
    "user_avgs_genres = [genre for genre in user_avgs if 'genre' in genre]\n",
    "user_avgs_ml_genres = [genre for genre in user_avgs if genre[:8] == 'ml_genre']\n",
    "user_avgs_imdb_genres = [genre for genre in user_avgs if genre[:10] == 'imdb_genre']\n",
    "user_avgs_directors = [director for director in user_avgs if director[0:9] == 'director_']\n",
    "user_avgs_actors = [actor for actor in user_avgs if actor[0:6] == 'actor_']\n",
    "\n",
    "movie_genres = [genre for genre in movie_metadata if 'genre' in genre]\n",
    "movie_ml_genres = [genre for genre in movie_metadata if genre[:8] == 'ml_genre']\n",
    "movie_imdb_genres = [genre for genre in movie_metadata if genre[:10] == 'imdb_genre']\n",
    "movie_directors = [director for director in movie_metadata if director[0:9] == 'director_']\n",
    "movie_actors = [actor for actor in movie_metadata if actor[0:6] == 'actor_']"
   ]
  },
  {
   "cell_type": "code",
   "execution_count": 7,
   "metadata": {},
   "outputs": [],
   "source": [
    "# Determine total user_ids and movie_ids for mapping to embeddigns\n",
    "max_user_id = full_sdf.agg({\"userId\": \"max\"}).collect()[0][0] + 1\n",
    "max_movie_id = full_sdf.agg({\"itemId\": \"max\"}).collect()[0][0] + 1\n",
    "# Determine total number of classes\n",
    "num_rating_labels = full_sdf.select('label').distinct().count()"
   ]
  },
  {
   "cell_type": "markdown",
   "metadata": {},
   "source": [
    "* Speficy data feature information shared by the WideAndDeep model and its feature generation. Here, we use occupation gender for wide base part, age and gender crossed as wide cross part, genres and gender as indicators, userid and itemid for embedding.  "
   ]
  },
  {
   "cell_type": "code",
   "execution_count": 8,
   "metadata": {},
   "outputs": [],
   "source": [
    "# bucket_size = 100\n",
    "\n",
    "# Specify column sets to be used for different parts of the Wide&Deep model\n",
    "# Column dims values need to be greater than the dims of the columns. \n",
    "# For indicator columns the dim is 3 because the column has two levels, \n",
    "# and for avgs the dim is 6 because the column has values up to 5\n",
    "wide_base_cols = indicator_base_fields + movie_genres + user_avgs_genres\n",
    "wide_base_dims = [3 for i in (indicator_base_fields + movie_genres)] + [6 for i in user_avgs_genres]\n",
    "indicator_cols = indicator_base_fields + movie_genres\n",
    "indicator_dims = [3 for i in indicator_cols]\n",
    "continuous_cols = continuous_base_fields + user_avgs_genres\n",
    "column_info = ColumnFeatureInfo(\n",
    "            wide_base_cols = wide_base_cols,\n",
    "            wide_base_dims = wide_base_dims,\n",
    "            # wide_cross_cols = [\"age-gender\"],\n",
    "            # wide_cross_dims = [bucket_size],\n",
    "            indicator_cols = indicator_cols,\n",
    "            indicator_dims = indicator_dims,\n",
    "            embed_cols = [\"userId\", \"itemId\"],\n",
    "            embed_in_dims = [max_user_id, max_movie_id],\n",
    "            embed_out_dims = [100, 100],\n",
    "            continuous_cols = continuous_cols)"
   ]
  },
  {
   "cell_type": "markdown",
   "metadata": {},
   "source": [
    "* Transform data to  RDD of Sample. We use optimizer of BigDL directly to train the model, it requires data to be provided in format of RDD(Sample). A Sample is a BigDL data structure which can be constructed using 2 numpy arrays, feature and label respectively. The API interface is Sample.from_ndarray(feature, label).  Wide&Deep model need two input tensors, one is SparseTensor for the Wide model, another is a DenseTensor for the Deep model."
   ]
  },
  {
   "cell_type": "code",
   "execution_count": 9,
   "metadata": {},
   "outputs": [],
   "source": [
    "rdds = full_sdf.rdd.map(lambda row: to_user_item_feature(row, column_info))\n",
    "trainPairFeatureRdds, valPairFeatureRdds = rdds.randomSplit([0.8, 0.2], seed= 1)\n",
    "valPairFeatureRdds.persist()\n",
    "train_data = trainPairFeatureRdds.map(lambda pair_feature: pair_feature.sample)\n",
    "test_data = valPairFeatureRdds.map(lambda pair_feature: pair_feature.sample)"
   ]
  },
  {
   "cell_type": "markdown",
   "metadata": {},
   "source": [
    "##  Create the Wide&Deep model."
   ]
  },
  {
   "cell_type": "markdown",
   "metadata": {},
   "source": [
    "* In Analytics Zoo, it is simple to build Wide&Deep model by calling WideAndDeep API. You need specify model type, and class number, as well as column information of features according to your data. You can also change other default parameters in the network, like hidden layers. The model could be fed into an Optimizer of BigDL or NNClassifier of analytics-zoo. Please refer to the document for more details. In this example, we demostrate how to use optimizer of BigDL."
   ]
  },
  {
   "cell_type": "code",
   "execution_count": 10,
   "metadata": {
    "scrolled": false
   },
   "outputs": [
    {
     "name": "stdout",
     "output_type": "stream",
     "text": [
      "creating: createZooWideAndDeep\n"
     ]
    }
   ],
   "source": [
    "wide_n_deep = WideAndDeep(class_num = num_rating_labels, column_info = column_info, \n",
    "                          model_type = \"wide_n_deep\", hidden_layers = (200, 100, 50, 25, 10))"
   ]
  },
  {
   "cell_type": "markdown",
   "metadata": {},
   "source": [
    "## Create optimizer and train the model"
   ]
  },
  {
   "cell_type": "code",
   "execution_count": 10,
   "metadata": {},
   "outputs": [
    {
     "name": "stdout",
     "output_type": "stream",
     "text": [
      "creating: createClassNLLCriterion\n",
      "creating: createAdam\n",
      "creating: createMaxEpoch\n",
      "creating: createDistriOptimizer\n",
      "creating: createEveryEpoch\n",
      "creating: createTop1Accuracy\n",
      "creating: createClassNLLCriterion\n",
      "creating: createLoss\n",
      "creating: createTrainSummary\n",
      "creating: createValidationSummary\n",
      "saving logs to /tmp/bigdl_summaries/wide_n_deep-20190502-112417\n"
     ]
    }
   ],
   "source": [
    "# Create an Optimizer\n",
    "batch_size = 2560 #16 executors with 16 cores each\n",
    "\n",
    "optimizer = Optimizer(\n",
    "    model=wide_n_deep,\n",
    "    training_rdd=train_data,\n",
    "    criterion=ClassNLLCriterion(),\n",
    "    optim_method=Adam(learningrate = 0.001, learningrate_decay=0.000005),\n",
    "    end_trigger=MaxEpoch(10),\n",
    "    batch_size=batch_size)\n",
    "\n",
    "# Set the validation logic\n",
    "optimizer.set_validation(\n",
    "    batch_size=batch_size,\n",
    "    val_rdd=test_data,\n",
    "    trigger=EveryEpoch(),\n",
    "    val_method=[Top1Accuracy(), Loss(ClassNLLCriterion())]\n",
    ")\n",
    "log_dir='/tmp/bigdl_summaries/'\n",
    "app_name='wide_n_deep-'+dt.datetime.now().strftime(\"%Y%m%d-%H%M%S\")\n",
    "train_summary = TrainSummary(log_dir=log_dir,\n",
    "                                     app_name=app_name)\n",
    "val_summary = ValidationSummary(log_dir=log_dir,\n",
    "                                        app_name=app_name)\n",
    "optimizer.set_train_summary(train_summary)\n",
    "optimizer.set_val_summary(val_summary)\n",
    "print(\"saving logs to %s\" % (log_dir + app_name))"
   ]
  },
  {
   "cell_type": "markdown",
   "metadata": {},
   "source": [
    "Train the network. Wait some time till it finished.. Voila! You've got a trained model"
   ]
  },
  {
   "cell_type": "code",
   "execution_count": 11,
   "metadata": {},
   "outputs": [
    {
     "name": "stdout",
     "output_type": "stream",
     "text": [
      "Optimization Done.\n",
      "CPU times: user 34.5 ms, sys: 14.9 ms, total: 49.4 ms\n",
      "Wall time: 6min 4s\n"
     ]
    }
   ],
   "source": [
    "%%time\n",
    "# Train the model\n",
    "optimizer.optimize()\n",
    "print(\"Optimization Done.\")"
   ]
  },
  {
   "cell_type": "markdown",
   "metadata": {},
   "source": [
    "## Prediction and recommendation"
   ]
  },
  {
   "cell_type": "markdown",
   "metadata": {},
   "source": [
    "* Zoo models make inferences based on the given data using model.predict(val_rdd) API. A result of RDD is returned. predict_class returns the predicted label."
   ]
  },
  {
   "cell_type": "code",
   "execution_count": 12,
   "metadata": {},
   "outputs": [
    {
     "data": {
      "text/plain": [
       "[3, 3, 3, 3, 3]"
      ]
     },
     "execution_count": 12,
     "metadata": {},
     "output_type": "execute_result"
    }
   ],
   "source": [
    "results = wide_n_deep.predict(test_data)\n",
    "results.take(5)\n",
    "\n",
    "results_class = wide_n_deep.predict_class(test_data)\n",
    "results_class.take(5)"
   ]
  },
  {
   "cell_type": "markdown",
   "metadata": {},
   "source": [
    "* In the Analytics Zoo, Recommender has provied 3 unique APIs to predict user-item pairs and make recommendations for users or items given candidates.\n",
    "* Predict for user item pairs"
   ]
  },
  {
   "cell_type": "code",
   "execution_count": 13,
   "metadata": {},
   "outputs": [
    {
     "name": "stdout",
     "output_type": "stream",
     "text": [
      "UserItemPrediction [user_id: 26, item_id: 3421, prediction: 3, probability: 0.331611637932]\n",
      "UserItemPrediction [user_id: 26, item_id: 3426, prediction: 3, probability: 0.351779929788]\n",
      "UserItemPrediction [user_id: 26, item_id: 2628, prediction: 3, probability: 0.36735145963]\n",
      "UserItemPrediction [user_id: 26, item_id: 216, prediction: 3, probability: 0.331611637932]\n",
      "UserItemPrediction [user_id: 26, item_id: 3506, prediction: 3, probability: 0.367259333433]\n"
     ]
    }
   ],
   "source": [
    "userItemPairPrediction = wide_n_deep.predict_user_item_pair(valPairFeatureRdds)\n",
    "for result in userItemPairPrediction.take(5): print(result)"
   ]
  },
  {
   "cell_type": "markdown",
   "metadata": {},
   "source": [
    "* Recommend 3 items for each user given candidates in the feature RDDs"
   ]
  },
  {
   "cell_type": "code",
   "execution_count": 14,
   "metadata": {},
   "outputs": [
    {
     "name": "stdout",
     "output_type": "stream",
     "text": [
      "UserItemPrediction [user_id: 1200, item_id: 3053, prediction: 5, probability: 0.399062958584]\n",
      "UserItemPrediction [user_id: 1200, item_id: 2336, prediction: 4, probability: 0.400851619192]\n",
      "UserItemPrediction [user_id: 1200, item_id: 3186, prediction: 4, probability: 0.397393590226]\n",
      "UserItemPrediction [user_id: 2200, item_id: 1909, prediction: 4, probability: 0.364852528616]\n",
      "UserItemPrediction [user_id: 2200, item_id: 2699, prediction: 3, probability: 0.389033310953]\n"
     ]
    }
   ],
   "source": [
    "userRecs = wide_n_deep.recommend_for_user(valPairFeatureRdds, 3)\n",
    "for result in userRecs.take(5): print(result)"
   ]
  },
  {
   "cell_type": "markdown",
   "metadata": {},
   "source": [
    "* Recommend 3 users for each item given candidates in the feature RDDs"
   ]
  },
  {
   "cell_type": "code",
   "execution_count": 15,
   "metadata": {},
   "outputs": [
    {
     "name": "stdout",
     "output_type": "stream",
     "text": [
      "UserItemPrediction [user_id: 101, item_id: 2000, prediction: 5, probability: 0.58254469651]\n",
      "UserItemPrediction [user_id: 5862, item_id: 2000, prediction: 5, probability: 0.531538660018]\n",
      "UserItemPrediction [user_id: 4254, item_id: 2000, prediction: 5, probability: 0.528811319454]\n",
      "UserItemPrediction [user_id: 1940, item_id: 1200, prediction: 5, probability: 0.667794612458]\n",
      "UserItemPrediction [user_id: 101, item_id: 1200, prediction: 5, probability: 0.662328026119]\n"
     ]
    }
   ],
   "source": [
    "itemRecs = wide_n_deep.recommend_for_item(valPairFeatureRdds, 3)\n",
    "for result in itemRecs.take(5): print(result)"
   ]
  },
  {
   "cell_type": "markdown",
   "metadata": {},
   "source": [
    "##  Evaluate the trained model"
   ]
  },
  {
   "cell_type": "code",
   "execution_count": 16,
   "metadata": {},
   "outputs": [
    {
     "name": "stdout",
     "output_type": "stream",
     "text": [
      "creating: createTop1Accuracy\n",
      "Top1 accuracy: 0.397537559271\n",
      "CPU times: user 5.48 ms, sys: 5.9 ms, total: 11.4 ms\n",
      "Wall time: 393 ms\n"
     ]
    }
   ],
   "source": [
    "%%time\n",
    "evaluate_result=wide_n_deep.evaluate(test_data, 2800, [Top1Accuracy()])\n",
    "print(\"Top1 accuracy: %s\" % evaluate_result[0].result)"
   ]
  },
  {
   "cell_type": "code",
   "execution_count": 17,
   "metadata": {},
   "outputs": [],
   "source": [
    "wide_n_deep.save_model(path = data_path + 'WnD_Model.bigdl', \n",
    "                       weight_path = data_path + 'WnD_Model_weights.h5', over_write = True)"
   ]
  },
  {
   "cell_type": "markdown",
   "metadata": {},
   "source": [
    "##  Draw the convergence curve"
   ]
  },
  {
   "cell_type": "code",
   "execution_count": 18,
   "metadata": {},
   "outputs": [
    {
     "data": {
      "image/png": "[encoded data removed]",
      "text/plain": [
       "<Figure size 864x864 with 2 Axes>"
      ]
     },
     "metadata": {
      "needs_background": "light"
     },
     "output_type": "display_data"
    }
   ],
   "source": [
    "loss = np.array(train_summary.read_scalar(\"Loss\"))\n",
    "top1 = np.array(val_summary.read_scalar(\"Top1Accuracy\"))\n",
    "\n",
    "plt.figure(figsize = (12,12))\n",
    "plt.subplot(2,1,1)\n",
    "plt.plot(loss[:,0],loss[:,1],label='loss')\n",
    "plt.xlim(0,loss.shape[0]+10)\n",
    "plt.grid(True)\n",
    "plt.title(\"loss\")\n",
    "plt.subplot(2,1,2)\n",
    "plt.plot(top1[:,0],top1[:,1],label='top1')\n",
    "plt.xlim(0,loss.shape[0]+10)\n",
    "plt.title(\"top1 accuracy\")\n",
    "plt.grid(True)"
   ]
  },
  {
   "cell_type": "code",
   "execution_count": 19,
   "metadata": {},
   "outputs": [
    {
     "data": {
      "text/plain": [
       "PythonRDD[74] at RDD at PythonRDD.scala:48"
      ]
     },
     "execution_count": 19,
     "metadata": {},
     "output_type": "execute_result"
    }
   ],
   "source": [
    "valPairFeatureRdds.unpersist()"
   ]
  },
  {
   "cell_type": "code",
   "execution_count": null,
   "metadata": {},
   "outputs": [],
   "source": [
    "sc.stop()"
   ]
  }
 ],
 "metadata": {
  "kernelspec": {
   "display_name": "Python 2",
   "language": "python",
   "name": "python2"
  },
  "language_info": {
   "codemirror_mode": {
    "name": "ipython",
    "version": 2
   },
   "file_extension": ".py",
   "mimetype": "text/x-python",
   "name": "python",
   "nbconvert_exporter": "python",
   "pygments_lexer": "ipython2",
   "version": "2.7.5"
  }
 },
 "nbformat": 4,
 "nbformat_minor": 2
}
